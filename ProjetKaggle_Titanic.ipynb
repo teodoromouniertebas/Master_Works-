{
 "cells": [
  {
   "cell_type": "markdown",
   "metadata": {
    "toc": true
   },
   "source": [
    "<h1>Table of Contents<span class=\"tocSkip\"></span></h1>\n",
    "<div class=\"toc\"><ul class=\"toc-item\"><li><span><a href=\"#Import-et-manipulations-des-données\" data-toc-modified-id=\"Import-et-manipulations-des-données-1\"><span class=\"toc-item-num\">1&nbsp;&nbsp;</span>Import et manipulations des données</a></span><ul class=\"toc-item\"><li><span><a href=\"#Import-des-bases\" data-toc-modified-id=\"Import-des-bases-1.1\"><span class=\"toc-item-num\">1.1&nbsp;&nbsp;</span>Import des bases</a></span></li><li><span><a href=\"#Manipulations-des-données\" data-toc-modified-id=\"Manipulations-des-données-1.2\"><span class=\"toc-item-num\">1.2&nbsp;&nbsp;</span>Manipulations des données</a></span></li></ul></li><li><span><a href=\"#Statistiques-descriptives\" data-toc-modified-id=\"Statistiques-descriptives-2\"><span class=\"toc-item-num\">2&nbsp;&nbsp;</span>Statistiques descriptives</a></span><ul class=\"toc-item\"><li><span><a href=\"#Répartition-des-individus-dans-les-modalités\" data-toc-modified-id=\"Répartition-des-individus-dans-les-modalités-2.1\"><span class=\"toc-item-num\">2.1&nbsp;&nbsp;</span>Répartition des individus dans les modalités</a></span></li><li><span><a href=\"#La-variable-à-expliquer-:-&quot;Survived&quot;\" data-toc-modified-id=\"La-variable-à-expliquer-:-&quot;Survived&quot;-2.2\"><span class=\"toc-item-num\">2.2&nbsp;&nbsp;</span>La variable à expliquer : \"Survived\"</a></span></li><li><span><a href=\"#Les-variables-explicatives\" data-toc-modified-id=\"Les-variables-explicatives-2.3\"><span class=\"toc-item-num\">2.3&nbsp;&nbsp;</span>Les variables explicatives</a></span><ul class=\"toc-item\"><li><span><a href=\"#VARIABLES-QUANTITATIVES\" data-toc-modified-id=\"VARIABLES-QUANTITATIVES-2.3.1\"><span class=\"toc-item-num\">2.3.1&nbsp;&nbsp;</span>VARIABLES QUANTITATIVES</a></span></li><li><span><a href=\"#VARIABLES-QUALITATIVES\" data-toc-modified-id=\"VARIABLES-QUALITATIVES-2.3.2\"><span class=\"toc-item-num\">2.3.2&nbsp;&nbsp;</span>VARIABLES QUALITATIVES</a></span></li></ul></li><li><span><a href=\"#Création-de-variables\" data-toc-modified-id=\"Création-de-variables-2.4\"><span class=\"toc-item-num\">2.4&nbsp;&nbsp;</span>Création de variables</a></span></li></ul></li><li><span><a href=\"#Modélisations\" data-toc-modified-id=\"Modélisations-3\"><span class=\"toc-item-num\">3&nbsp;&nbsp;</span>Modélisations</a></span><ul class=\"toc-item\"><li><span><a href=\"#LogisticRegression\" data-toc-modified-id=\"LogisticRegression-3.1\"><span class=\"toc-item-num\">3.1&nbsp;&nbsp;</span>LogisticRegression</a></span></li><li><span><a href=\"#Arbre-de-décision\" data-toc-modified-id=\"Arbre-de-décision-3.2\"><span class=\"toc-item-num\">3.2&nbsp;&nbsp;</span>Arbre de décision</a></span></li><li><span><a href=\"#Forêt-aléatoire\" data-toc-modified-id=\"Forêt-aléatoire-3.3\"><span class=\"toc-item-num\">3.3&nbsp;&nbsp;</span>Forêt aléatoire</a></span></li><li><span><a href=\"#Bagging\" data-toc-modified-id=\"Bagging-3.4\"><span class=\"toc-item-num\">3.4&nbsp;&nbsp;</span>Bagging</a></span></li><li><span><a href=\"#Gradient-boosting\" data-toc-modified-id=\"Gradient-boosting-3.5\"><span class=\"toc-item-num\">3.5&nbsp;&nbsp;</span>Gradient boosting</a></span></li></ul></li><li><span><a href=\"#Meilleur-modèle\" data-toc-modified-id=\"Meilleur-modèle-4\"><span class=\"toc-item-num\">4&nbsp;&nbsp;</span>Meilleur modèle</a></span></li></ul></div>"
   ]
  },
  {
   "cell_type": "markdown",
   "metadata": {},
   "source": [
    "# Analyse de la survie des passagers du Titanic"
   ]
  },
  {
   "cell_type": "code",
   "execution_count": 6,
   "metadata": {},
   "outputs": [],
   "source": [
    "# On crée un chemin d'accès pour faciliter les transferts de code\n",
    "#path=\"/Users/riwanperron/Google Drive/IAE/M2-S1/Arbre de décision sous python/\"\n",
    "path=\"C:/Users/Teo/Documents/etudes/Université/Master/master_2/Semestre 1/Machine learning sous python (Camille)/Formation ML_partager/Projet Titanic/Données/\"\n",
    "#path=\"/Users/dianethierry/Notebooks/Python Camille/Projet final Titanic/\""
   ]
  },
  {
   "cell_type": "code",
   "execution_count": 7,
   "metadata": {},
   "outputs": [],
   "source": [
    "# On importe les librairies nécessaires à l'analyse\n",
    "import pandas as pd\n",
    "import numpy as np\n",
    "from array import array\n",
    "import math\n",
    "import scipy.stats as stats\n",
    "from statsmodels.stats import proportion as proptests\n",
    "import statistics\n",
    "\n",
    "# Data Viz\n",
    "import matplotlib.pyplot as plt\n",
    "import seaborn as sns\n",
    "\n",
    "# Test Khi-2\n",
    "from scipy.stats import chi2_contingency as chi2_contingency\n",
    "import scipy"
   ]
  },
  {
   "cell_type": "markdown",
   "metadata": {},
   "source": [
    "## Import et manipulations des données"
   ]
  },
  {
   "cell_type": "markdown",
   "metadata": {},
   "source": [
    "### Import des bases"
   ]
  },
  {
   "cell_type": "code",
   "execution_count": 8,
   "metadata": {},
   "outputs": [
    {
     "data": {
      "text/html": [
       "<div>\n",
       "<style scoped>\n",
       "    .dataframe tbody tr th:only-of-type {\n",
       "        vertical-align: middle;\n",
       "    }\n",
       "\n",
       "    .dataframe tbody tr th {\n",
       "        vertical-align: top;\n",
       "    }\n",
       "\n",
       "    .dataframe thead th {\n",
       "        text-align: right;\n",
       "    }\n",
       "</style>\n",
       "<table border=\"1\" class=\"dataframe\">\n",
       "  <thead>\n",
       "    <tr style=\"text-align: right;\">\n",
       "      <th></th>\n",
       "      <th>PassengerId</th>\n",
       "      <th>Survived</th>\n",
       "      <th>Pclass</th>\n",
       "      <th>Name</th>\n",
       "      <th>Sex</th>\n",
       "      <th>Age</th>\n",
       "      <th>SibSp</th>\n",
       "      <th>Parch</th>\n",
       "      <th>Ticket</th>\n",
       "      <th>Fare</th>\n",
       "      <th>Cabin</th>\n",
       "      <th>Embarked</th>\n",
       "    </tr>\n",
       "  </thead>\n",
       "  <tbody>\n",
       "    <tr>\n",
       "      <th>0</th>\n",
       "      <td>1</td>\n",
       "      <td>0</td>\n",
       "      <td>3</td>\n",
       "      <td>Braund, Mr. Owen Harris</td>\n",
       "      <td>male</td>\n",
       "      <td>22.0</td>\n",
       "      <td>1</td>\n",
       "      <td>0</td>\n",
       "      <td>A/5 21171</td>\n",
       "      <td>7.2500</td>\n",
       "      <td>NaN</td>\n",
       "      <td>S</td>\n",
       "    </tr>\n",
       "    <tr>\n",
       "      <th>1</th>\n",
       "      <td>2</td>\n",
       "      <td>1</td>\n",
       "      <td>1</td>\n",
       "      <td>Cumings, Mrs. John Bradley (Florence Briggs Th...</td>\n",
       "      <td>female</td>\n",
       "      <td>38.0</td>\n",
       "      <td>1</td>\n",
       "      <td>0</td>\n",
       "      <td>PC 17599</td>\n",
       "      <td>71.2833</td>\n",
       "      <td>C85</td>\n",
       "      <td>C</td>\n",
       "    </tr>\n",
       "    <tr>\n",
       "      <th>2</th>\n",
       "      <td>3</td>\n",
       "      <td>1</td>\n",
       "      <td>3</td>\n",
       "      <td>Heikkinen, Miss. Laina</td>\n",
       "      <td>female</td>\n",
       "      <td>26.0</td>\n",
       "      <td>0</td>\n",
       "      <td>0</td>\n",
       "      <td>STON/O2. 3101282</td>\n",
       "      <td>7.9250</td>\n",
       "      <td>NaN</td>\n",
       "      <td>S</td>\n",
       "    </tr>\n",
       "    <tr>\n",
       "      <th>3</th>\n",
       "      <td>4</td>\n",
       "      <td>1</td>\n",
       "      <td>1</td>\n",
       "      <td>Futrelle, Mrs. Jacques Heath (Lily May Peel)</td>\n",
       "      <td>female</td>\n",
       "      <td>35.0</td>\n",
       "      <td>1</td>\n",
       "      <td>0</td>\n",
       "      <td>113803</td>\n",
       "      <td>53.1000</td>\n",
       "      <td>C123</td>\n",
       "      <td>S</td>\n",
       "    </tr>\n",
       "    <tr>\n",
       "      <th>4</th>\n",
       "      <td>5</td>\n",
       "      <td>0</td>\n",
       "      <td>3</td>\n",
       "      <td>Allen, Mr. William Henry</td>\n",
       "      <td>male</td>\n",
       "      <td>35.0</td>\n",
       "      <td>0</td>\n",
       "      <td>0</td>\n",
       "      <td>373450</td>\n",
       "      <td>8.0500</td>\n",
       "      <td>NaN</td>\n",
       "      <td>S</td>\n",
       "    </tr>\n",
       "    <tr>\n",
       "      <th>...</th>\n",
       "      <td>...</td>\n",
       "      <td>...</td>\n",
       "      <td>...</td>\n",
       "      <td>...</td>\n",
       "      <td>...</td>\n",
       "      <td>...</td>\n",
       "      <td>...</td>\n",
       "      <td>...</td>\n",
       "      <td>...</td>\n",
       "      <td>...</td>\n",
       "      <td>...</td>\n",
       "      <td>...</td>\n",
       "    </tr>\n",
       "    <tr>\n",
       "      <th>886</th>\n",
       "      <td>887</td>\n",
       "      <td>0</td>\n",
       "      <td>2</td>\n",
       "      <td>Montvila, Rev. Juozas</td>\n",
       "      <td>male</td>\n",
       "      <td>27.0</td>\n",
       "      <td>0</td>\n",
       "      <td>0</td>\n",
       "      <td>211536</td>\n",
       "      <td>13.0000</td>\n",
       "      <td>NaN</td>\n",
       "      <td>S</td>\n",
       "    </tr>\n",
       "    <tr>\n",
       "      <th>887</th>\n",
       "      <td>888</td>\n",
       "      <td>1</td>\n",
       "      <td>1</td>\n",
       "      <td>Graham, Miss. Margaret Edith</td>\n",
       "      <td>female</td>\n",
       "      <td>19.0</td>\n",
       "      <td>0</td>\n",
       "      <td>0</td>\n",
       "      <td>112053</td>\n",
       "      <td>30.0000</td>\n",
       "      <td>B42</td>\n",
       "      <td>S</td>\n",
       "    </tr>\n",
       "    <tr>\n",
       "      <th>888</th>\n",
       "      <td>889</td>\n",
       "      <td>0</td>\n",
       "      <td>3</td>\n",
       "      <td>Johnston, Miss. Catherine Helen \"Carrie\"</td>\n",
       "      <td>female</td>\n",
       "      <td>NaN</td>\n",
       "      <td>1</td>\n",
       "      <td>2</td>\n",
       "      <td>W./C. 6607</td>\n",
       "      <td>23.4500</td>\n",
       "      <td>NaN</td>\n",
       "      <td>S</td>\n",
       "    </tr>\n",
       "    <tr>\n",
       "      <th>889</th>\n",
       "      <td>890</td>\n",
       "      <td>1</td>\n",
       "      <td>1</td>\n",
       "      <td>Behr, Mr. Karl Howell</td>\n",
       "      <td>male</td>\n",
       "      <td>26.0</td>\n",
       "      <td>0</td>\n",
       "      <td>0</td>\n",
       "      <td>111369</td>\n",
       "      <td>30.0000</td>\n",
       "      <td>C148</td>\n",
       "      <td>C</td>\n",
       "    </tr>\n",
       "    <tr>\n",
       "      <th>890</th>\n",
       "      <td>891</td>\n",
       "      <td>0</td>\n",
       "      <td>3</td>\n",
       "      <td>Dooley, Mr. Patrick</td>\n",
       "      <td>male</td>\n",
       "      <td>32.0</td>\n",
       "      <td>0</td>\n",
       "      <td>0</td>\n",
       "      <td>370376</td>\n",
       "      <td>7.7500</td>\n",
       "      <td>NaN</td>\n",
       "      <td>Q</td>\n",
       "    </tr>\n",
       "  </tbody>\n",
       "</table>\n",
       "<p>891 rows × 12 columns</p>\n",
       "</div>"
      ],
      "text/plain": [
       "     PassengerId  Survived  Pclass  \\\n",
       "0              1         0       3   \n",
       "1              2         1       1   \n",
       "2              3         1       3   \n",
       "3              4         1       1   \n",
       "4              5         0       3   \n",
       "..           ...       ...     ...   \n",
       "886          887         0       2   \n",
       "887          888         1       1   \n",
       "888          889         0       3   \n",
       "889          890         1       1   \n",
       "890          891         0       3   \n",
       "\n",
       "                                                  Name     Sex   Age  SibSp  \\\n",
       "0                              Braund, Mr. Owen Harris    male  22.0      1   \n",
       "1    Cumings, Mrs. John Bradley (Florence Briggs Th...  female  38.0      1   \n",
       "2                               Heikkinen, Miss. Laina  female  26.0      0   \n",
       "3         Futrelle, Mrs. Jacques Heath (Lily May Peel)  female  35.0      1   \n",
       "4                             Allen, Mr. William Henry    male  35.0      0   \n",
       "..                                                 ...     ...   ...    ...   \n",
       "886                              Montvila, Rev. Juozas    male  27.0      0   \n",
       "887                       Graham, Miss. Margaret Edith  female  19.0      0   \n",
       "888           Johnston, Miss. Catherine Helen \"Carrie\"  female   NaN      1   \n",
       "889                              Behr, Mr. Karl Howell    male  26.0      0   \n",
       "890                                Dooley, Mr. Patrick    male  32.0      0   \n",
       "\n",
       "     Parch            Ticket     Fare Cabin Embarked  \n",
       "0        0         A/5 21171   7.2500   NaN        S  \n",
       "1        0          PC 17599  71.2833   C85        C  \n",
       "2        0  STON/O2. 3101282   7.9250   NaN        S  \n",
       "3        0            113803  53.1000  C123        S  \n",
       "4        0            373450   8.0500   NaN        S  \n",
       "..     ...               ...      ...   ...      ...  \n",
       "886      0            211536  13.0000   NaN        S  \n",
       "887      0            112053  30.0000   B42        S  \n",
       "888      2        W./C. 6607  23.4500   NaN        S  \n",
       "889      0            111369  30.0000  C148        C  \n",
       "890      0            370376   7.7500   NaN        Q  \n",
       "\n",
       "[891 rows x 12 columns]"
      ]
     },
     "execution_count": 8,
     "metadata": {},
     "output_type": "execute_result"
    }
   ],
   "source": [
    "# Import train\n",
    "train=pd.read_csv(path+\"train.csv\", sep=\",\")\n",
    "train.shape\n",
    "train.columns\n",
    "train"
   ]
  },
  {
   "cell_type": "code",
   "execution_count": 9,
   "metadata": {
    "scrolled": false
   },
   "outputs": [
    {
     "data": {
      "text/html": [
       "<div>\n",
       "<style scoped>\n",
       "    .dataframe tbody tr th:only-of-type {\n",
       "        vertical-align: middle;\n",
       "    }\n",
       "\n",
       "    .dataframe tbody tr th {\n",
       "        vertical-align: top;\n",
       "    }\n",
       "\n",
       "    .dataframe thead th {\n",
       "        text-align: right;\n",
       "    }\n",
       "</style>\n",
       "<table border=\"1\" class=\"dataframe\">\n",
       "  <thead>\n",
       "    <tr style=\"text-align: right;\">\n",
       "      <th></th>\n",
       "      <th>PassengerId</th>\n",
       "      <th>Pclass</th>\n",
       "      <th>Name</th>\n",
       "      <th>Sex</th>\n",
       "      <th>Age</th>\n",
       "      <th>SibSp</th>\n",
       "      <th>Parch</th>\n",
       "      <th>Ticket</th>\n",
       "      <th>Fare</th>\n",
       "      <th>Cabin</th>\n",
       "      <th>Embarked</th>\n",
       "    </tr>\n",
       "  </thead>\n",
       "  <tbody>\n",
       "    <tr>\n",
       "      <th>0</th>\n",
       "      <td>892</td>\n",
       "      <td>3</td>\n",
       "      <td>Kelly, Mr. James</td>\n",
       "      <td>male</td>\n",
       "      <td>34.5</td>\n",
       "      <td>0</td>\n",
       "      <td>0</td>\n",
       "      <td>330911</td>\n",
       "      <td>7.8292</td>\n",
       "      <td>NaN</td>\n",
       "      <td>Q</td>\n",
       "    </tr>\n",
       "    <tr>\n",
       "      <th>1</th>\n",
       "      <td>893</td>\n",
       "      <td>3</td>\n",
       "      <td>Wilkes, Mrs. James (Ellen Needs)</td>\n",
       "      <td>female</td>\n",
       "      <td>47.0</td>\n",
       "      <td>1</td>\n",
       "      <td>0</td>\n",
       "      <td>363272</td>\n",
       "      <td>7.0000</td>\n",
       "      <td>NaN</td>\n",
       "      <td>S</td>\n",
       "    </tr>\n",
       "    <tr>\n",
       "      <th>2</th>\n",
       "      <td>894</td>\n",
       "      <td>2</td>\n",
       "      <td>Myles, Mr. Thomas Francis</td>\n",
       "      <td>male</td>\n",
       "      <td>62.0</td>\n",
       "      <td>0</td>\n",
       "      <td>0</td>\n",
       "      <td>240276</td>\n",
       "      <td>9.6875</td>\n",
       "      <td>NaN</td>\n",
       "      <td>Q</td>\n",
       "    </tr>\n",
       "    <tr>\n",
       "      <th>3</th>\n",
       "      <td>895</td>\n",
       "      <td>3</td>\n",
       "      <td>Wirz, Mr. Albert</td>\n",
       "      <td>male</td>\n",
       "      <td>27.0</td>\n",
       "      <td>0</td>\n",
       "      <td>0</td>\n",
       "      <td>315154</td>\n",
       "      <td>8.6625</td>\n",
       "      <td>NaN</td>\n",
       "      <td>S</td>\n",
       "    </tr>\n",
       "    <tr>\n",
       "      <th>4</th>\n",
       "      <td>896</td>\n",
       "      <td>3</td>\n",
       "      <td>Hirvonen, Mrs. Alexander (Helga E Lindqvist)</td>\n",
       "      <td>female</td>\n",
       "      <td>22.0</td>\n",
       "      <td>1</td>\n",
       "      <td>1</td>\n",
       "      <td>3101298</td>\n",
       "      <td>12.2875</td>\n",
       "      <td>NaN</td>\n",
       "      <td>S</td>\n",
       "    </tr>\n",
       "    <tr>\n",
       "      <th>...</th>\n",
       "      <td>...</td>\n",
       "      <td>...</td>\n",
       "      <td>...</td>\n",
       "      <td>...</td>\n",
       "      <td>...</td>\n",
       "      <td>...</td>\n",
       "      <td>...</td>\n",
       "      <td>...</td>\n",
       "      <td>...</td>\n",
       "      <td>...</td>\n",
       "      <td>...</td>\n",
       "    </tr>\n",
       "    <tr>\n",
       "      <th>413</th>\n",
       "      <td>1305</td>\n",
       "      <td>3</td>\n",
       "      <td>Spector, Mr. Woolf</td>\n",
       "      <td>male</td>\n",
       "      <td>NaN</td>\n",
       "      <td>0</td>\n",
       "      <td>0</td>\n",
       "      <td>A.5. 3236</td>\n",
       "      <td>8.0500</td>\n",
       "      <td>NaN</td>\n",
       "      <td>S</td>\n",
       "    </tr>\n",
       "    <tr>\n",
       "      <th>414</th>\n",
       "      <td>1306</td>\n",
       "      <td>1</td>\n",
       "      <td>Oliva y Ocana, Dona. Fermina</td>\n",
       "      <td>female</td>\n",
       "      <td>39.0</td>\n",
       "      <td>0</td>\n",
       "      <td>0</td>\n",
       "      <td>PC 17758</td>\n",
       "      <td>108.9000</td>\n",
       "      <td>C105</td>\n",
       "      <td>C</td>\n",
       "    </tr>\n",
       "    <tr>\n",
       "      <th>415</th>\n",
       "      <td>1307</td>\n",
       "      <td>3</td>\n",
       "      <td>Saether, Mr. Simon Sivertsen</td>\n",
       "      <td>male</td>\n",
       "      <td>38.5</td>\n",
       "      <td>0</td>\n",
       "      <td>0</td>\n",
       "      <td>SOTON/O.Q. 3101262</td>\n",
       "      <td>7.2500</td>\n",
       "      <td>NaN</td>\n",
       "      <td>S</td>\n",
       "    </tr>\n",
       "    <tr>\n",
       "      <th>416</th>\n",
       "      <td>1308</td>\n",
       "      <td>3</td>\n",
       "      <td>Ware, Mr. Frederick</td>\n",
       "      <td>male</td>\n",
       "      <td>NaN</td>\n",
       "      <td>0</td>\n",
       "      <td>0</td>\n",
       "      <td>359309</td>\n",
       "      <td>8.0500</td>\n",
       "      <td>NaN</td>\n",
       "      <td>S</td>\n",
       "    </tr>\n",
       "    <tr>\n",
       "      <th>417</th>\n",
       "      <td>1309</td>\n",
       "      <td>3</td>\n",
       "      <td>Peter, Master. Michael J</td>\n",
       "      <td>male</td>\n",
       "      <td>NaN</td>\n",
       "      <td>1</td>\n",
       "      <td>1</td>\n",
       "      <td>2668</td>\n",
       "      <td>22.3583</td>\n",
       "      <td>NaN</td>\n",
       "      <td>C</td>\n",
       "    </tr>\n",
       "  </tbody>\n",
       "</table>\n",
       "<p>418 rows × 11 columns</p>\n",
       "</div>"
      ],
      "text/plain": [
       "     PassengerId  Pclass                                          Name  \\\n",
       "0            892       3                              Kelly, Mr. James   \n",
       "1            893       3              Wilkes, Mrs. James (Ellen Needs)   \n",
       "2            894       2                     Myles, Mr. Thomas Francis   \n",
       "3            895       3                              Wirz, Mr. Albert   \n",
       "4            896       3  Hirvonen, Mrs. Alexander (Helga E Lindqvist)   \n",
       "..           ...     ...                                           ...   \n",
       "413         1305       3                            Spector, Mr. Woolf   \n",
       "414         1306       1                  Oliva y Ocana, Dona. Fermina   \n",
       "415         1307       3                  Saether, Mr. Simon Sivertsen   \n",
       "416         1308       3                           Ware, Mr. Frederick   \n",
       "417         1309       3                      Peter, Master. Michael J   \n",
       "\n",
       "        Sex   Age  SibSp  Parch              Ticket      Fare Cabin Embarked  \n",
       "0      male  34.5      0      0              330911    7.8292   NaN        Q  \n",
       "1    female  47.0      1      0              363272    7.0000   NaN        S  \n",
       "2      male  62.0      0      0              240276    9.6875   NaN        Q  \n",
       "3      male  27.0      0      0              315154    8.6625   NaN        S  \n",
       "4    female  22.0      1      1             3101298   12.2875   NaN        S  \n",
       "..      ...   ...    ...    ...                 ...       ...   ...      ...  \n",
       "413    male   NaN      0      0           A.5. 3236    8.0500   NaN        S  \n",
       "414  female  39.0      0      0            PC 17758  108.9000  C105        C  \n",
       "415    male  38.5      0      0  SOTON/O.Q. 3101262    7.2500   NaN        S  \n",
       "416    male   NaN      0      0              359309    8.0500   NaN        S  \n",
       "417    male   NaN      1      1                2668   22.3583   NaN        C  \n",
       "\n",
       "[418 rows x 11 columns]"
      ]
     },
     "execution_count": 9,
     "metadata": {},
     "output_type": "execute_result"
    }
   ],
   "source": [
    "# Import test\n",
    "test=pd.read_csv(path+\"test.csv\", sep=\",\")\n",
    "test.shape\n",
    "test.columns\n",
    "test"
   ]
  },
  {
   "cell_type": "markdown",
   "metadata": {},
   "source": [
    "### Manipulations des données"
   ]
  },
  {
   "cell_type": "code",
   "execution_count": 10,
   "metadata": {},
   "outputs": [],
   "source": [
    "# On va indexer le data frame avec la variable PassengerId pour facilité le traitement des columns:\n",
    "train.set_index('PassengerId',inplace=True,drop=True)\n",
    "test.set_index('PassengerId',inplace=True,drop=True)"
   ]
  },
  {
   "cell_type": "code",
   "execution_count": 11,
   "metadata": {},
   "outputs": [
    {
     "data": {
      "text/plain": [
       "Index(['Survived', 'Pclass', 'Name', 'Sex', 'Age', 'SibSp', 'Parch', 'Ticket',\n",
       "       'Fare', 'Cabin', 'Embarked'],\n",
       "      dtype='object')"
      ]
     },
     "execution_count": 11,
     "metadata": {},
     "output_type": "execute_result"
    }
   ],
   "source": [
    "#On a ainsi accès aux variables de la manière suivante:\n",
    "train.columns"
   ]
  },
  {
   "cell_type": "code",
   "execution_count": 12,
   "metadata": {},
   "outputs": [
    {
     "name": "stdout",
     "output_type": "stream",
     "text": [
      "<class 'pandas.core.frame.DataFrame'>\n",
      "Int64Index: 891 entries, 1 to 891\n",
      "Data columns (total 11 columns):\n",
      " #   Column    Non-Null Count  Dtype  \n",
      "---  ------    --------------  -----  \n",
      " 0   Survived  891 non-null    int64  \n",
      " 1   Pclass    891 non-null    int64  \n",
      " 2   Name      891 non-null    object \n",
      " 3   Sex       891 non-null    object \n",
      " 4   Age       714 non-null    float64\n",
      " 5   SibSp     891 non-null    int64  \n",
      " 6   Parch     891 non-null    int64  \n",
      " 7   Ticket    891 non-null    object \n",
      " 8   Fare      891 non-null    float64\n",
      " 9   Cabin     204 non-null    object \n",
      " 10  Embarked  889 non-null    object \n",
      "dtypes: float64(2), int64(4), object(5)\n",
      "memory usage: 83.5+ KB\n",
      "<class 'pandas.core.frame.DataFrame'>\n",
      "Int64Index: 418 entries, 892 to 1309\n",
      "Data columns (total 10 columns):\n",
      " #   Column    Non-Null Count  Dtype  \n",
      "---  ------    --------------  -----  \n",
      " 0   Pclass    418 non-null    int64  \n",
      " 1   Name      418 non-null    object \n",
      " 2   Sex       418 non-null    object \n",
      " 3   Age       332 non-null    float64\n",
      " 4   SibSp     418 non-null    int64  \n",
      " 5   Parch     418 non-null    int64  \n",
      " 6   Ticket    418 non-null    object \n",
      " 7   Fare      417 non-null    float64\n",
      " 8   Cabin     91 non-null     object \n",
      " 9   Embarked  418 non-null    object \n",
      "dtypes: float64(2), int64(3), object(5)\n",
      "memory usage: 35.9+ KB\n"
     ]
    }
   ],
   "source": [
    "# On commence par regarder la nature des variables\n",
    "train.info()\n",
    "test.info()"
   ]
  },
  {
   "cell_type": "markdown",
   "metadata": {},
   "source": [
    "**>> Valeurs manquantes**"
   ]
  },
  {
   "cell_type": "code",
   "execution_count": 13,
   "metadata": {},
   "outputs": [
    {
     "data": {
      "text/plain": [
       "Survived     0.000000\n",
       "Pclass       0.000000\n",
       "Name         0.000000\n",
       "Sex          0.000000\n",
       "Age         19.865320\n",
       "SibSp        0.000000\n",
       "Parch        0.000000\n",
       "Ticket       0.000000\n",
       "Fare         0.000000\n",
       "Cabin       77.104377\n",
       "Embarked     0.224467\n",
       "dtype: float64"
      ]
     },
     "execution_count": 13,
     "metadata": {},
     "output_type": "execute_result"
    }
   ],
   "source": [
    "# On regarde les valeurs manquantes des variables\n",
    "train.isna().sum()/train.shape[0]*100"
   ]
  },
  {
   "cell_type": "code",
   "execution_count": 14,
   "metadata": {},
   "outputs": [
    {
     "data": {
      "text/plain": [
       "Pclass       0.000000\n",
       "Name         0.000000\n",
       "Sex          0.000000\n",
       "Age         20.574163\n",
       "SibSp        0.000000\n",
       "Parch        0.000000\n",
       "Ticket       0.000000\n",
       "Fare         0.239234\n",
       "Cabin       78.229665\n",
       "Embarked     0.000000\n",
       "dtype: float64"
      ]
     },
     "execution_count": 14,
     "metadata": {},
     "output_type": "execute_result"
    }
   ],
   "source": [
    "# Celles du jeu test aussi\n",
    "test.isna().sum()/test.shape[0]*100"
   ]
  },
  {
   "cell_type": "markdown",
   "metadata": {},
   "source": [
    "**Pour le jeu train** :\n",
    "A partir de la sortie précédante nous pouvons constater plusieurs choses :\n",
    "* la variable sur le numéro de la cabine comporte beaucoup de valeurs manquantes (77%) mais elle nous indique sur quel 'pont' se trouvait les passagers et donc s'ils étaient proches ou pas des canots de sauvetage, en effet on peut supposer qu'il y avait une chance plus grande de survivre pour les passagers des ponts supérieurs. \n",
    "\n",
    "* De même, l'âge comporte 20% de NAs il arrive en effet que les personnes avec l'âge qui augmente ne souhaitent plus le renseigner. Avant de l'inclure dans nos modélisations, il faudra imputer aux valeurs manquantes la mediane pour ne pas fausser la distribution.\n",
    "\n",
    "* Enfin, pour la variable 'Embarked' qui n'a que 2 valeurs manqantes nous deçidons de retirer les observations concernées de la base.\n",
    "\n",
    "**Pour le jeu test** : \n",
    "* La variable Fare contient 1 seul NA, l'âge 21% et le numéro de cabine 78%. Cependant, pour pouvoir tester nos modèles sur le jeu test et soumettre sous kaggle nous ne devons supprimer aucune observation. "
   ]
  },
  {
   "cell_type": "markdown",
   "metadata": {},
   "source": [
    "+ **Variable 'Embarked'**"
   ]
  },
  {
   "cell_type": "code",
   "execution_count": 15,
   "metadata": {},
   "outputs": [
    {
     "name": "stdout",
     "output_type": "stream",
     "text": [
      "             Survived  Pclass                                       Name  \\\n",
      "PassengerId                                                                \n",
      "62                  1       1                        Icard, Miss. Amelie   \n",
      "830                 1       1  Stone, Mrs. George Nelson (Martha Evelyn)   \n",
      "\n",
      "                Sex   Age  SibSp  Parch  Ticket  Fare Cabin Embarked  \n",
      "PassengerId                                                           \n",
      "62           female  38.0      0      0  113572  80.0   B28      NaN  \n",
      "830          female  62.0      0      0  113572  80.0   B28      NaN  \n"
     ]
    }
   ],
   "source": [
    "# On supprime les observations incomplètes du jeu train\n",
    "    # on trouve les observations manquantes\n",
    "NA_embarked_train=train[pd.isnull(train['Embarked'])]\n",
    "print(NA_embarked_train)"
   ]
  },
  {
   "cell_type": "code",
   "execution_count": 16,
   "metadata": {},
   "outputs": [
    {
     "data": {
      "text/plain": [
       "(889, 11)"
      ]
     },
     "execution_count": 16,
     "metadata": {},
     "output_type": "execute_result"
    }
   ],
   "source": [
    "    # on les supprime\n",
    "train = train.drop([62,830])\n",
    "train.shape"
   ]
  },
  {
   "cell_type": "code",
   "execution_count": 17,
   "metadata": {},
   "outputs": [],
   "source": [
    "# Pour le jeu test on met le prix moyen du billet pour la valeur manquante\n",
    "test['Fare'].fillna(test.Fare.mean(), inplace = True)"
   ]
  },
  {
   "cell_type": "markdown",
   "metadata": {},
   "source": [
    "+ **Variable 'Age'**"
   ]
  },
  {
   "cell_type": "code",
   "execution_count": 18,
   "metadata": {},
   "outputs": [],
   "source": [
    "# On remplace les NaN par la mediane\n",
    "    # jeu train\n",
    "train['Age'].fillna(train.Age.median(), inplace = True)\n",
    "    # jeu test\n",
    "test['Age'].fillna(test.Age.median(), inplace = True)"
   ]
  },
  {
   "cell_type": "code",
   "execution_count": 19,
   "metadata": {
    "scrolled": true
   },
   "outputs": [
    {
     "data": {
      "text/plain": [
       "Survived     0.00000\n",
       "Pclass       0.00000\n",
       "Name         0.00000\n",
       "Sex          0.00000\n",
       "Age          0.00000\n",
       "SibSp        0.00000\n",
       "Parch        0.00000\n",
       "Ticket       0.00000\n",
       "Fare         0.00000\n",
       "Cabin       77.27784\n",
       "Embarked     0.00000\n",
       "dtype: float64"
      ]
     },
     "execution_count": 19,
     "metadata": {},
     "output_type": "execute_result"
    }
   ],
   "source": [
    "# Petite vérification ; normalement on n'a plus aucune valeur manquante sur les 2 jeux de donnnées \n",
    "# sauf cabine mais on verra ça lorsqu'on transformera les variables.\n",
    "train.isna().sum()/train.shape[0]*100"
   ]
  },
  {
   "cell_type": "code",
   "execution_count": 20,
   "metadata": {},
   "outputs": [
    {
     "data": {
      "text/plain": [
       "Pclass       0.000000\n",
       "Name         0.000000\n",
       "Sex          0.000000\n",
       "Age          0.000000\n",
       "SibSp        0.000000\n",
       "Parch        0.000000\n",
       "Ticket       0.000000\n",
       "Fare         0.000000\n",
       "Cabin       78.229665\n",
       "Embarked     0.000000\n",
       "dtype: float64"
      ]
     },
     "execution_count": 20,
     "metadata": {},
     "output_type": "execute_result"
    }
   ],
   "source": [
    "test.isna().sum()/test.shape[0]*100  # c'est tout bon"
   ]
  },
  {
   "cell_type": "markdown",
   "metadata": {},
   "source": [
    "**>> Points atypiques**"
   ]
  },
  {
   "cell_type": "markdown",
   "metadata": {},
   "source": [
    "+ **Train data**"
   ]
  },
  {
   "cell_type": "code",
   "execution_count": 21,
   "metadata": {
    "scrolled": true
   },
   "outputs": [
    {
     "data": {
      "image/png": "[encoded data removed]",
      "text/plain": [
       "<Figure size 432x288 with 1 Axes>"
      ]
     },
     "metadata": {
      "needs_background": "light"
     },
     "output_type": "display_data"
    }
   ],
   "source": [
    "# On identifie et on retire les valeurs atypiques qui faussent les estimations\n",
    "train[['Age','SibSp','Parch','Fare']].boxplot(rot=90)\n",
    "plt.title(\"Distribution des variables quantitatives du jeu train\")\n",
    "plt.show()"
   ]
  },
  {
   "cell_type": "markdown",
   "metadata": {},
   "source": [
    "Il semble y avoir beaucoup de valeurs atypiques mais l'échelle n'étant pas la même entre les 4 variables il est difficile d'identifier le nombre exact d'outliers. Nous \"zoomons\" sur la première, les 2 du milieu puis la dernière."
   ]
  },
  {
   "cell_type": "code",
   "execution_count": 22,
   "metadata": {
    "scrolled": true
   },
   "outputs": [
    {
     "data": {
      "image/png": "[encoded data removed]",
      "text/plain": [
       "<Figure size 432x288 with 1 Axes>"
      ]
     },
     "metadata": {
      "needs_background": "light"
     },
     "output_type": "display_data"
    }
   ],
   "source": [
    "# On regarde le boxplot de l'âge\n",
    "train[['Age']].boxplot(rot=90)\n",
    "plt.title(\"Distribution de la variable Age du jeu train\")\n",
    "plt.show()"
   ]
  },
  {
   "cell_type": "markdown",
   "metadata": {},
   "source": [
    "Pas de valeurs aberrantes : les âges vont de 0 à 80 ans ce qui est normal."
   ]
  },
  {
   "cell_type": "code",
   "execution_count": 23,
   "metadata": {},
   "outputs": [
    {
     "data": {
      "image/png": "[encoded data removed]",
      "text/plain": [
       "<Figure size 432x288 with 1 Axes>"
      ]
     },
     "metadata": {
      "needs_background": "light"
     },
     "output_type": "display_data"
    }
   ],
   "source": [
    "# Puis le boxplot de 'SibSp' et 'Parch'\n",
    "train[['SibSp','Parch']].boxplot(rot=90)\n",
    "plt.title(\"Distribution des variables 'SibSp' et 'Parch' du jeu train\")\n",
    "plt.show()"
   ]
  },
  {
   "cell_type": "code",
   "execution_count": 24,
   "metadata": {},
   "outputs": [
    {
     "data": {
      "text/plain": [
       "(11,)"
      ]
     },
     "execution_count": 24,
     "metadata": {},
     "output_type": "execute_result"
    }
   ],
   "source": [
    "outlier_Sibsp=train[(train['SibSp']==8)].iloc[0]\n",
    "outlier_Sibsp.shape"
   ]
  },
  {
   "cell_type": "code",
   "execution_count": 25,
   "metadata": {},
   "outputs": [
    {
     "name": "stdout",
     "output_type": "stream",
     "text": [
      "Le nombre moyen de proches pour un passager est de 0.5241844769403825\n"
     ]
    }
   ],
   "source": [
    "moy=sum(train.SibSp)/len(train.SibSp)\n",
    "print(\"Le nombre moyen de proches pour un passager est de\",moy)"
   ]
  },
  {
   "cell_type": "markdown",
   "metadata": {},
   "source": [
    "On voit à partir du boxplot ci-dessus et du calcul, que 11 passagers du jeu train étaient venu à bord avec 8 frères et soeurs/épouses et consituent des valeurs atypiques puisqu'en moyenne les personnes venaient seules ou avec 1 proche (moyenne=0.52)"
   ]
  },
  {
   "cell_type": "code",
   "execution_count": 26,
   "metadata": {},
   "outputs": [
    {
     "data": {
      "image/png": "[encoded data removed]",
      "text/plain": [
       "<Figure size 432x288 with 1 Axes>"
      ]
     },
     "metadata": {
      "needs_background": "light"
     },
     "output_type": "display_data"
    },
    {
     "data": {
      "text/plain": [
       "32.09668087739029"
      ]
     },
     "execution_count": 26,
     "metadata": {},
     "output_type": "execute_result"
    }
   ],
   "source": [
    "train[['Fare']].boxplot(rot=90)\n",
    "plt.title(\"Distribution de la variable Fare du jeu train\")\n",
    "plt.show()\n",
    "train.Fare.mean()"
   ]
  },
  {
   "cell_type": "code",
   "execution_count": 27,
   "metadata": {},
   "outputs": [
    {
     "data": {
      "text/plain": [
       "Survived                   1\n",
       "Pclass                     1\n",
       "Name        Ward, Miss. Anna\n",
       "Sex                   female\n",
       "Age                       35\n",
       "SibSp                      0\n",
       "Parch                      0\n",
       "Ticket              PC 17755\n",
       "Fare                 512.329\n",
       "Cabin                    NaN\n",
       "Embarked                   C\n",
       "Name: 259, dtype: object"
      ]
     },
     "execution_count": 27,
     "metadata": {},
     "output_type": "execute_result"
    }
   ],
   "source": [
    "# on trouve le nombre de valeurs atypiques pour cette variable\n",
    "Outlier_fare_train=train[(train['Fare']>500)].iloc[0]\n",
    "Outlier_fare_train"
   ]
  },
  {
   "cell_type": "markdown",
   "metadata": {},
   "source": [
    "On observe au moins 2 valeurs atypiques à retirer qui correspondent à des billets à plus de 500\\\\$ tandis que la plupart des tarifs étaient inférieurs à 100\\\\$."
   ]
  },
  {
   "cell_type": "markdown",
   "metadata": {},
   "source": [
    "Maintenant que l'on a identifié les observations abérrantes on les **retire** de la base d'apprentissage."
   ]
  },
  {
   "cell_type": "code",
   "execution_count": 28,
   "metadata": {},
   "outputs": [
    {
     "name": "stdout",
     "output_type": "stream",
     "text": [
      "La base train contient à présent 879 observations soit 12 de moins qu'à l'import, et 11 colonnes.\n"
     ]
    }
   ],
   "source": [
    "train = train[train.SibSp<6]\n",
    "train = train[train.Fare<300]\n",
    "print(\"La base train contient à présent\", train.shape[0], \"observations soit\", 891-train.shape[0], \"de moins qu'à l'import, et\", train.shape[1], \"colonnes.\")"
   ]
  },
  {
   "cell_type": "markdown",
   "metadata": {},
   "source": [
    "## Statistiques descriptives"
   ]
  },
  {
   "cell_type": "markdown",
   "metadata": {},
   "source": [
    "### Répartition des individus dans les modalités"
   ]
  },
  {
   "cell_type": "code",
   "execution_count": 29,
   "metadata": {},
   "outputs": [
    {
     "data": {
      "text/plain": [
       "0    542\n",
       "1    337\n",
       "Name: Survived, dtype: int64"
      ]
     },
     "execution_count": 29,
     "metadata": {},
     "output_type": "execute_result"
    }
   ],
   "source": [
    "# Répartition des passagers\n",
    "train['Survived'].value_counts()"
   ]
  },
  {
   "cell_type": "code",
   "execution_count": 30,
   "metadata": {
    "scrolled": true
   },
   "outputs": [
    {
     "data": {
      "text/plain": [
       "3    484\n",
       "1    211\n",
       "2    184\n",
       "Name: Pclass, dtype: int64"
      ]
     },
     "execution_count": 30,
     "metadata": {},
     "output_type": "execute_result"
    }
   ],
   "source": [
    "train['Pclass'].value_counts()"
   ]
  },
  {
   "cell_type": "code",
   "execution_count": 31,
   "metadata": {},
   "outputs": [
    {
     "data": {
      "text/plain": [
       "male      571\n",
       "female    308\n",
       "Name: Sex, dtype: int64"
      ]
     },
     "execution_count": 31,
     "metadata": {},
     "output_type": "execute_result"
    }
   ],
   "source": [
    "train['Sex'].value_counts()"
   ]
  },
  {
   "cell_type": "code",
   "execution_count": 32,
   "metadata": {},
   "outputs": [
    {
     "data": {
      "text/plain": [
       "S    637\n",
       "C    165\n",
       "Q     77\n",
       "Name: Embarked, dtype: int64"
      ]
     },
     "execution_count": 32,
     "metadata": {},
     "output_type": "execute_result"
    }
   ],
   "source": [
    "train['Embarked'].value_counts()"
   ]
  },
  {
   "cell_type": "markdown",
   "metadata": {},
   "source": [
    "Avant toute analyse il est important de regarder les répartitions des individus (les 879 passagers du jeu train nettoyé) au sein de chaque modalité des variables qualitatives pour vérifier la répartition. Les personnes ayant survécues sont au nombre de 337 et représentent ainsi 38.3% de la base, pareillement on voit que la majorité des personnes étaient en troisème classe (484 soit 55%) et les passagers en première classe étaient les moins nombreux avec 184 personnes pour un taux de 20.9%. \n",
    "Un autre constat peut être celui de la répartition des sexes dans les individus de la base 'train' : il y a 571 hommes contre 308 femmes tous âges confondus, donc si l'échantillon de notre base correspond à la vraie répartition des passagers lors du voyage de 1912, les hommes étaient près de 2 fois plus que les femmes.\n",
    "Enfin, sur la répartition du port d'embarquement on voit que 72% des personnes sont montées au port de Southampton, 19% à Queenstown et le reste à Cherbourg."
   ]
  },
  {
   "cell_type": "markdown",
   "metadata": {},
   "source": [
    "### La variable à expliquer : \"Survived\""
   ]
  },
  {
   "cell_type": "code",
   "execution_count": 33,
   "metadata": {},
   "outputs": [
    {
     "data": {
      "image/png": "[encoded data removed]",
      "text/plain": [
       "<Figure size 432x288 with 1 Axes>"
      ]
     },
     "metadata": {
      "needs_background": "light"
     },
     "output_type": "display_data"
    }
   ],
   "source": [
    "plt.bar(\n",
    "    train.Survived.value_counts().index,\n",
    "    train.Survived.value_counts().values, color='brown', edgecolor='black'\n",
    ")\n",
    "plt.title(\"Répartition de la variable à expliquer\")\n",
    "plt.ylabel('Effectifs')\n",
    "plt.xticks([0,1])\n",
    "plt.text(0,400,'62%',horizontalalignment = 'center', color=\"white\",size=12)\n",
    "plt.text(1,200,'38%',horizontalalignment = 'center', color=\"white\",size=12)\n",
    "plt.show()"
   ]
  },
  {
   "cell_type": "markdown",
   "metadata": {},
   "source": [
    "### Les variables explicatives"
   ]
  },
  {
   "cell_type": "markdown",
   "metadata": {},
   "source": [
    "Dans cette sous partie nous allons traiter les variables explicatives avant de les inclures dans nos modèles. Nous allons commencer par observer la distribution de chaque variable en fonction de celle à expliquer (Survived). Pour les variables explicatives quantitatives nous étudierons les correlations entre elles afin de ne pas biaiser nos estimations (pour les modèles linéaires tels que la regression logistique). Pour les variables categorielles nous créérons des variables dummies, c'est une méthode parmis d'autres pour inclure des variables qualitatives dans les modèles. "
   ]
  },
  {
   "cell_type": "markdown",
   "metadata": {},
   "source": [
    "#### VARIABLES QUANTITATIVES"
   ]
  },
  {
   "cell_type": "code",
   "execution_count": 34,
   "metadata": {},
   "outputs": [],
   "source": [
    "#On sépare le jeu de données en deux populations (survivant ou non)\n",
    "survived = train[train.Survived == 1]\n",
    "dead = train[train.Survived == 0]"
   ]
  },
  {
   "cell_type": "markdown",
   "metadata": {},
   "source": [
    "+ **Age** "
   ]
  },
  {
   "cell_type": "code",
   "execution_count": 35,
   "metadata": {},
   "outputs": [
    {
     "data": {
      "image/png": "[encoded data removed]",
      "text/plain": [
       "<Figure size 432x288 with 1 Axes>"
      ]
     },
     "metadata": {
      "needs_background": "light"
     },
     "output_type": "display_data"
    }
   ],
   "source": [
    "def plot_hist(feature, bins = 20):\n",
    "    plt.hist([dead[feature], survived[feature]], label=['Victime', 'Survivant'], bins = bins, color = ['yellow', 'green'], edgecolor='black')\n",
    "    plt.legend(loc = 'upper left')\n",
    "    plt.title('Distribution relative de %s' %feature)\n",
    "    plt.show()\n",
    "    \n",
    "plot_hist('Age')"
   ]
  },
  {
   "cell_type": "markdown",
   "metadata": {},
   "source": [
    "Le plot ci-dessus nous apporte plusieurs informations concernant l'**âge** des passagers :\n",
    "* premièrement que la classe d'âge 20 - 35 ans est la plus représentée dans l'échantillon, on voit un pic d'effectifs entre 24 et 26 ans avec plus de 250 passagers concernés, soit près de 30% de la base train. \n",
    "\n",
    "* Deuxièment quil y a eu une forte proportion de victimes chez les jeunes adultes entre 20 et 30 ans. \n",
    "\n",
    "Enfin, on voit ainsi que parmis les enfants de moins de 8 ans il y a beaucoup de survivants en proportion. Nous créons donc une nouvelle variable qui indique si l'individu est un enfant (moins de 8 ans) ou non."
   ]
  },
  {
   "cell_type": "code",
   "execution_count": 36,
   "metadata": {},
   "outputs": [],
   "source": [
    "train['is_child'] = train.Age < 8\n",
    "test['is_child'] = test.Age < 8"
   ]
  },
  {
   "cell_type": "code",
   "execution_count": 37,
   "metadata": {},
   "outputs": [
    {
     "data": {
      "text/html": [
       "<div>\n",
       "<style scoped>\n",
       "    .dataframe tbody tr th:only-of-type {\n",
       "        vertical-align: middle;\n",
       "    }\n",
       "\n",
       "    .dataframe tbody tr th {\n",
       "        vertical-align: top;\n",
       "    }\n",
       "\n",
       "    .dataframe thead th {\n",
       "        text-align: right;\n",
       "    }\n",
       "</style>\n",
       "<table border=\"1\" class=\"dataframe\">\n",
       "  <thead>\n",
       "    <tr style=\"text-align: right;\">\n",
       "      <th></th>\n",
       "      <th>Survived</th>\n",
       "      <th>Pclass</th>\n",
       "      <th>Name</th>\n",
       "      <th>Sex</th>\n",
       "      <th>Age</th>\n",
       "      <th>SibSp</th>\n",
       "      <th>Parch</th>\n",
       "      <th>Ticket</th>\n",
       "      <th>Fare</th>\n",
       "      <th>Cabin</th>\n",
       "      <th>Embarked</th>\n",
       "      <th>is_child</th>\n",
       "    </tr>\n",
       "    <tr>\n",
       "      <th>PassengerId</th>\n",
       "      <th></th>\n",
       "      <th></th>\n",
       "      <th></th>\n",
       "      <th></th>\n",
       "      <th></th>\n",
       "      <th></th>\n",
       "      <th></th>\n",
       "      <th></th>\n",
       "      <th></th>\n",
       "      <th></th>\n",
       "      <th></th>\n",
       "      <th></th>\n",
       "    </tr>\n",
       "  </thead>\n",
       "  <tbody>\n",
       "    <tr>\n",
       "      <th>1</th>\n",
       "      <td>0</td>\n",
       "      <td>3</td>\n",
       "      <td>Braund, Mr. Owen Harris</td>\n",
       "      <td>male</td>\n",
       "      <td>22.0</td>\n",
       "      <td>1</td>\n",
       "      <td>0</td>\n",
       "      <td>A/5 21171</td>\n",
       "      <td>7.2500</td>\n",
       "      <td>NaN</td>\n",
       "      <td>S</td>\n",
       "      <td>False</td>\n",
       "    </tr>\n",
       "    <tr>\n",
       "      <th>2</th>\n",
       "      <td>1</td>\n",
       "      <td>1</td>\n",
       "      <td>Cumings, Mrs. John Bradley (Florence Briggs Th...</td>\n",
       "      <td>female</td>\n",
       "      <td>38.0</td>\n",
       "      <td>1</td>\n",
       "      <td>0</td>\n",
       "      <td>PC 17599</td>\n",
       "      <td>71.2833</td>\n",
       "      <td>C85</td>\n",
       "      <td>C</td>\n",
       "      <td>False</td>\n",
       "    </tr>\n",
       "    <tr>\n",
       "      <th>3</th>\n",
       "      <td>1</td>\n",
       "      <td>3</td>\n",
       "      <td>Heikkinen, Miss. Laina</td>\n",
       "      <td>female</td>\n",
       "      <td>26.0</td>\n",
       "      <td>0</td>\n",
       "      <td>0</td>\n",
       "      <td>STON/O2. 3101282</td>\n",
       "      <td>7.9250</td>\n",
       "      <td>NaN</td>\n",
       "      <td>S</td>\n",
       "      <td>False</td>\n",
       "    </tr>\n",
       "    <tr>\n",
       "      <th>4</th>\n",
       "      <td>1</td>\n",
       "      <td>1</td>\n",
       "      <td>Futrelle, Mrs. Jacques Heath (Lily May Peel)</td>\n",
       "      <td>female</td>\n",
       "      <td>35.0</td>\n",
       "      <td>1</td>\n",
       "      <td>0</td>\n",
       "      <td>113803</td>\n",
       "      <td>53.1000</td>\n",
       "      <td>C123</td>\n",
       "      <td>S</td>\n",
       "      <td>False</td>\n",
       "    </tr>\n",
       "    <tr>\n",
       "      <th>5</th>\n",
       "      <td>0</td>\n",
       "      <td>3</td>\n",
       "      <td>Allen, Mr. William Henry</td>\n",
       "      <td>male</td>\n",
       "      <td>35.0</td>\n",
       "      <td>0</td>\n",
       "      <td>0</td>\n",
       "      <td>373450</td>\n",
       "      <td>8.0500</td>\n",
       "      <td>NaN</td>\n",
       "      <td>S</td>\n",
       "      <td>False</td>\n",
       "    </tr>\n",
       "  </tbody>\n",
       "</table>\n",
       "</div>"
      ],
      "text/plain": [
       "             Survived  Pclass  \\\n",
       "PassengerId                     \n",
       "1                   0       3   \n",
       "2                   1       1   \n",
       "3                   1       3   \n",
       "4                   1       1   \n",
       "5                   0       3   \n",
       "\n",
       "                                                          Name     Sex   Age  \\\n",
       "PassengerId                                                                    \n",
       "1                                      Braund, Mr. Owen Harris    male  22.0   \n",
       "2            Cumings, Mrs. John Bradley (Florence Briggs Th...  female  38.0   \n",
       "3                                       Heikkinen, Miss. Laina  female  26.0   \n",
       "4                 Futrelle, Mrs. Jacques Heath (Lily May Peel)  female  35.0   \n",
       "5                                     Allen, Mr. William Henry    male  35.0   \n",
       "\n",
       "             SibSp  Parch            Ticket     Fare Cabin Embarked  is_child  \n",
       "PassengerId                                                                    \n",
       "1                1      0         A/5 21171   7.2500   NaN        S     False  \n",
       "2                1      0          PC 17599  71.2833   C85        C     False  \n",
       "3                0      0  STON/O2. 3101282   7.9250   NaN        S     False  \n",
       "4                1      0            113803  53.1000  C123        S     False  \n",
       "5                0      0            373450   8.0500   NaN        S     False  "
      ]
     },
     "execution_count": 37,
     "metadata": {},
     "output_type": "execute_result"
    }
   ],
   "source": [
    "train.head()"
   ]
  },
  {
   "cell_type": "markdown",
   "metadata": {},
   "source": [
    "+ **SibSp** "
   ]
  },
  {
   "cell_type": "code",
   "execution_count": 39,
   "metadata": {},
   "outputs": [
    {
     "data": {
      "image/png": "[encoded data removed]",
      "text/plain": [
       "<Figure size 432x288 with 1 Axes>"
      ]
     },
     "metadata": {
      "needs_background": "light"
     },
     "output_type": "display_data"
    }
   ],
   "source": [
    "def plot_hist(feature, bins = 20):\n",
    "    plt.hist([dead[feature], survived[feature]], label=['Victime', 'Survivant'], bins = bins, edgecolor='black')\n",
    "    plt.legend(loc = 'upper left')\n",
    "    plt.title('Distribution relative de %s' %feature)\n",
    "    plt.show()\n",
    "    \n",
    "plot_hist('SibSp')"
   ]
  },
  {
   "cell_type": "markdown",
   "metadata": {},
   "source": [
    "La variable **SibSp** nous indique le nombre de membre de la famille (frère et soeurs, époux) du passager. Le graphique précedant nous montre que la majorité des victimes étaient des individus voyageant seuls. Nous avons fait le choix de la concerver tel quel pour l'estimation des modèles. "
   ]
  },
  {
   "cell_type": "markdown",
   "metadata": {},
   "source": [
    "+ **Parch**"
   ]
  },
  {
   "cell_type": "code",
   "execution_count": 40,
   "metadata": {},
   "outputs": [
    {
     "data": {
      "image/png": "[encoded data removed]",
      "text/plain": [
       "<Figure size 432x288 with 1 Axes>"
      ]
     },
     "metadata": {
      "needs_background": "light"
     },
     "output_type": "display_data"
    }
   ],
   "source": [
    "def plot_hist(feature, bins = 20):\n",
    "    plt.hist([dead[feature], survived[feature]], label=['Victime', 'Survivant'], bins = bins, color = ['orangered', 'darkcyan'], edgecolor='black')\n",
    "    plt.legend(loc = 'upper left')\n",
    "    plt.title('Distribution relative de %s' %feature)\n",
    "    plt.show()\n",
    "    \n",
    "plot_hist('Parch')"
   ]
  },
  {
   "cell_type": "markdown",
   "metadata": {},
   "source": [
    "La variable **Parch** indique aussi le nombre de membre de la famille (père, mère, fils, filles) du passager. Elle est quasiment identique à la précedente. Elles seront surement corrélé entre elles donc nous la retirerons probablement lors des estimations."
   ]
  },
  {
   "cell_type": "markdown",
   "metadata": {},
   "source": [
    "+ **Fare**"
   ]
  },
  {
   "cell_type": "code",
   "execution_count": 41,
   "metadata": {},
   "outputs": [
    {
     "data": {
      "image/png": "[encoded data removed]",
      "text/plain": [
       "<Figure size 432x288 with 1 Axes>"
      ]
     },
     "metadata": {
      "needs_background": "light"
     },
     "output_type": "display_data"
    }
   ],
   "source": [
    "def plot_hist(feature, bins = 20):\n",
    "    plt.hist([dead[feature], survived[feature]], label=['Victime', 'Survivant'], bins = bins, color = ['rebeccapurple', 'gold'], edgecolor='black')\n",
    "    plt.legend(loc = 'upper left')\n",
    "    plt.title('Distribution relative de %s' %feature)\n",
    "    plt.show()\n",
    "    \n",
    "plot_hist('Fare') "
   ]
  },
  {
   "cell_type": "markdown",
   "metadata": {},
   "source": [
    "**Fare** est le prix du ticket, on peut voir que les personnes ayant payé peu cher leur billet pour la traversée sont aussi celles qui ont le moins survécu. On constate donc tristement que l'argent a dicté l'importance des passagers, puisque ce sont les plus riches qui ont été sauvés en premier. "
   ]
  },
  {
   "cell_type": "markdown",
   "metadata": {},
   "source": [
    "+ **Corrélations**"
   ]
  },
  {
   "cell_type": "code",
   "execution_count": 42,
   "metadata": {},
   "outputs": [
    {
     "data": {
      "text/plain": [
       "<matplotlib.axes._subplots.AxesSubplot at 0x174a33626c8>"
      ]
     },
     "execution_count": 42,
     "metadata": {},
     "output_type": "execute_result"
    },
    {
     "data": {
      "image/png": "[encoded data removed]",
      "text/plain": [
       "<Figure size 432x288 with 2 Axes>"
      ]
     },
     "metadata": {
      "needs_background": "light"
     },
     "output_type": "display_data"
    }
   ],
   "source": [
    "# Matrice de co\n",
    "df_corr = train[['Age','SibSp','Parch','Fare']].corr()\n",
    "sns.heatmap(df_corr,annot = True)"
   ]
  },
  {
   "cell_type": "markdown",
   "metadata": {},
   "source": [
    "La matrice de coorélation entre les variables explicatives de type quantitatives confirme notre intuition d'une corrélation entre les variables **SibSp** et **Parch**, cependant comme le CC est inférieur à 0.5 nous pouvons garder les 2 dans les modélisations."
   ]
  },
  {
   "cell_type": "code",
   "execution_count": 43,
   "metadata": {
    "scrolled": false
   },
   "outputs": [
    {
     "data": {
      "text/html": [
       "<div>\n",
       "<style scoped>\n",
       "    .dataframe tbody tr th:only-of-type {\n",
       "        vertical-align: middle;\n",
       "    }\n",
       "\n",
       "    .dataframe tbody tr th {\n",
       "        vertical-align: top;\n",
       "    }\n",
       "\n",
       "    .dataframe thead th {\n",
       "        text-align: right;\n",
       "    }\n",
       "</style>\n",
       "<table border=\"1\" class=\"dataframe\">\n",
       "  <thead>\n",
       "    <tr style=\"text-align: right;\">\n",
       "      <th></th>\n",
       "      <th>Age</th>\n",
       "      <th>Fare</th>\n",
       "      <th>Parch</th>\n",
       "      <th>SibSp</th>\n",
       "    </tr>\n",
       "    <tr>\n",
       "      <th>Survived</th>\n",
       "      <th></th>\n",
       "      <th></th>\n",
       "      <th></th>\n",
       "      <th></th>\n",
       "    </tr>\n",
       "  </thead>\n",
       "  <tbody>\n",
       "    <tr>\n",
       "      <th>0</th>\n",
       "      <td>30.054428</td>\n",
       "      <td>21.505295</td>\n",
       "      <td>0.308118</td>\n",
       "      <td>0.457565</td>\n",
       "    </tr>\n",
       "    <tr>\n",
       "      <th>1</th>\n",
       "      <td>28.099911</td>\n",
       "      <td>44.077869</td>\n",
       "      <td>0.468843</td>\n",
       "      <td>0.480712</td>\n",
       "    </tr>\n",
       "  </tbody>\n",
       "</table>\n",
       "</div>"
      ],
      "text/plain": [
       "                Age       Fare     Parch     SibSp\n",
       "Survived                                          \n",
       "0         30.054428  21.505295  0.308118  0.457565\n",
       "1         28.099911  44.077869  0.468843  0.480712"
      ]
     },
     "execution_count": 43,
     "metadata": {},
     "output_type": "execute_result"
    }
   ],
   "source": [
    "pd.pivot_table(train, index = 'Survived', values = ['Age','SibSp','Parch','Fare'])"
   ]
  },
  {
   "cell_type": "markdown",
   "metadata": {},
   "source": [
    "On peut constater que les plus jeunes ont davantage survécu, les plus riches aussi (prix moyen des billets des survivants>prix des décès : variable 'Fare'), et enfin les passagers ayant beaucoup de proches à bord (donc les familles, cela rejoint la plus grande survie des plus jeunes que l'on vient de noter)."
   ]
  },
  {
   "cell_type": "markdown",
   "metadata": {},
   "source": [
    "####  VARIABLES QUALITATIVES"
   ]
  },
  {
   "cell_type": "markdown",
   "metadata": {},
   "source": [
    "Nous allons maintenant tenter de comprendre un peu plus les variables de types qualitatives présentes dans la base, d'une manière visuelle dans un premier temps. Enfin nous procederons à la transformation des variables en 'dummies'."
   ]
  },
  {
   "cell_type": "markdown",
   "metadata": {},
   "source": [
    "+ **Sex**"
   ]
  },
  {
   "cell_type": "code",
   "execution_count": 44,
   "metadata": {},
   "outputs": [
    {
     "data": {
      "image/png": "[encoded data removed]",
      "text/plain": [
       "<Figure size 432x288 with 1 Axes>"
      ]
     },
     "metadata": {
      "needs_background": "light"
     },
     "output_type": "display_data"
    }
   ],
   "source": [
    "sns.barplot(x=\"Sex\", y=\"Survived\", data=train, edgecolor='black')\n",
    "\n",
    "female = train['Survived'][train['Sex']=='female'].value_counts(normalize=True)[1]*100\n",
    "male = train['Survived'][train['Sex']=='male'].value_counts(normalize=True)[1]*100\n",
    "plt.title(\"Pourcentage de survie selon le sexe du passager\")\n",
    "plt.ylabel(\"% de survie\")\n",
    "plt.xlabel('Sex \\nMale: %.2f%% \\nFemale: %.2f%%'%(male, female) )\n",
    "plt.show()"
   ]
  },
  {
   "cell_type": "markdown",
   "metadata": {},
   "source": [
    "Selon le barplot ci-dessus, 75% des femmes présentes à bord ont survécues au naufrage, pour les hommes ce pourcentage n'est que de 18.74%. Cela est compréhensible sachant que les femmes et les enfants étaient prioritaires lors de l'embarcation dans les cannots de sauvetage."
   ]
  },
  {
   "cell_type": "code",
   "execution_count": 45,
   "metadata": {},
   "outputs": [
    {
     "data": {
      "image/png": "[encoded data removed]",
      "text/plain": [
       "<Figure size 432x288 with 1 Axes>"
      ]
     },
     "metadata": {
      "needs_background": "light"
     },
     "output_type": "display_data"
    }
   ],
   "source": [
    "def plot_hist(feature, bins = 3):\n",
    "    plt.hist([dead[feature], survived[feature]], label=['Victime', 'Survivant'], bins = bins, edgecolor='black')\n",
    "    plt.legend(loc = 'upper left')\n",
    "    plt.title('Distribution relative de %s' %feature)\n",
    "    plt.show()\n",
    "    \n",
    "plot_hist('Sex')"
   ]
  },
  {
   "cell_type": "markdown",
   "metadata": {},
   "source": [
    "Il y avait une majorité d'homme sur le bateau, mais la proportion de survivants est très inégalement répartie."
   ]
  },
  {
   "cell_type": "markdown",
   "metadata": {},
   "source": [
    "+ **Pclass**"
   ]
  },
  {
   "cell_type": "code",
   "execution_count": 46,
   "metadata": {
    "scrolled": true
   },
   "outputs": [
    {
     "data": {
      "image/png": "[encoded data removed]",
      "text/plain": [
       "<Figure size 576x360 with 1 Axes>"
      ]
     },
     "metadata": {
      "needs_background": "light"
     },
     "output_type": "display_data"
    }
   ],
   "source": [
    "plt.subplots(figsize = (8,5))\n",
    "sns.barplot(x = \"Pclass\", y = \"Survived\", data=train, edgecolor='black')\n",
    "plt.title(\"Pclass Distribution - Survived vs Non-Survived\")\n",
    " \n",
    "plt.xticks([0,1,2], ['1st', '2nd', '3rd'])\n",
    "\n",
    "P1= train[\"Survived\"][train[\"Pclass\"] == 1].value_counts(normalize = True)[1]*100\n",
    "P2= train[\"Survived\"][train[\"Pclass\"] == 2].value_counts(normalize = True)[1]*100\n",
    "P3= train[\"Survived\"][train[\"Pclass\"] == 3].value_counts(normalize = True)[1]*100\n",
    "\n",
    "plt.xlabel('Pclass \\nP1: %.2f%% P2: %.2f%% P3: %.2f%%'%(P1, P2, P3))\n",
    "plt.ylabel(\"% de survie\")\n",
    "plt.title(\"Pourcentage de survie selon la classe du passager\")\n",
    "\n",
    "plt.show()"
   ]
  },
  {
   "cell_type": "markdown",
   "metadata": {},
   "source": [
    "De même, on voit que les personnes ayant payé plus cher leur billet càd ceux en 1ère classe ont survécu à 62%, tandis que seul 1 voyageur de 3è classe sur 4 a survécu."
   ]
  },
  {
   "cell_type": "markdown",
   "metadata": {},
   "source": [
    "+ **Embarked**"
   ]
  },
  {
   "cell_type": "code",
   "execution_count": 47,
   "metadata": {},
   "outputs": [
    {
     "data": {
      "image/png": "[encoded data removed]",
      "text/plain": [
       "<Figure size 432x288 with 1 Axes>"
      ]
     },
     "metadata": {
      "needs_background": "light"
     },
     "output_type": "display_data"
    }
   ],
   "source": [
    "def plot_hist(feature, bins = 3):\n",
    "    plt.hist([dead[feature], survived[feature]], label=['Victime', 'Survivant'], bins = bins, edgecolor='black')\n",
    "    plt.legend(loc = 'upper left')\n",
    "    plt.title('Distribution relative de %s' %feature)\n",
    "    plt.show()\n",
    "    \n",
    "plot_hist('Embarked')"
   ]
  },
  {
   "cell_type": "markdown",
   "metadata": {},
   "source": [
    "La variable **Embarked** indique le port d'embarquement du passager entre \"C\" pour Cherbourg, \"Q\" pour Queenstown et enfin \"S\" pour Southampton. L'histogramme montre que les majorité des passagers avait emarqué à Southampton et se sont eux qui ont été les principales victimes du naufrage."
   ]
  },
  {
   "cell_type": "markdown",
   "metadata": {},
   "source": [
    "### Création de variables"
   ]
  },
  {
   "cell_type": "markdown",
   "metadata": {},
   "source": [
    "Les variables **Name** ou encore **Cabin** sont des variables que nous avons choisi de laisser de côté dans un premier temps car:\n",
    "* Pour 'Name', nous ne savions pas trop comment traiter des chaînes de caractères.\n",
    "* Pour 'Cabin', avec entre 70 et 80% de valeurs manquantes nous avions décidé dans un premier temps de la supprimer.\n",
    "\n",
    "Nous avons ensuite essayé de voir si nous pouvions obtenir de l'information à partir de celles-ci."
   ]
  },
  {
   "cell_type": "markdown",
   "metadata": {},
   "source": [
    "+ **Name**"
   ]
  },
  {
   "cell_type": "code",
   "execution_count": 48,
   "metadata": {},
   "outputs": [
    {
     "data": {
      "text/plain": [
       "PassengerId\n",
       "1                               Braund, Mr. Owen Harris\n",
       "2     Cumings, Mrs. John Bradley (Florence Briggs Th...\n",
       "3                                Heikkinen, Miss. Laina\n",
       "4          Futrelle, Mrs. Jacques Heath (Lily May Peel)\n",
       "5                              Allen, Mr. William Henry\n",
       "6                                      Moran, Mr. James\n",
       "7                               McCarthy, Mr. Timothy J\n",
       "8                        Palsson, Master. Gosta Leonard\n",
       "9     Johnson, Mrs. Oscar W (Elisabeth Vilhelmina Berg)\n",
       "10                  Nasser, Mrs. Nicholas (Adele Achem)\n",
       "11                      Sandstrom, Miss. Marguerite Rut\n",
       "12                             Bonnell, Miss. Elizabeth\n",
       "13                       Saundercock, Mr. William Henry\n",
       "14                          Andersson, Mr. Anders Johan\n",
       "15                 Vestrom, Miss. Hulda Amanda Adolfina\n",
       "Name: Name, dtype: object"
      ]
     },
     "execution_count": 48,
     "metadata": {},
     "output_type": "execute_result"
    }
   ],
   "source": [
    "train['Name'].head(15)"
   ]
  },
  {
   "cell_type": "markdown",
   "metadata": {},
   "source": [
    "On peut constater que pour chaque passagers il y a le \"titre\" de l'individu (Mrs, Mr, Miss etc) ce qui pourrait nous renseigner sur la situation du passager (surement corrélée avec les variables 'Sexe' et 'Pclass'). Nous avons donc décidé de créé une nouvelle variable **title** contenant seulement le titre du passager. Pour cela nous utiliserons la fonction suivante :"
   ]
  },
  {
   "cell_type": "code",
   "execution_count": 49,
   "metadata": {},
   "outputs": [],
   "source": [
    "# Création de la variable\n",
    "train['title'] = train['Name'].map(lambda x : x.split(',')[1].split('.')[0])#La variable 'title' que l'on créé à partir de 'Name'\n",
    "test['title'] = test['Name'].map(lambda x : x.split(',')[1].split('.')[0])"
   ]
  },
  {
   "cell_type": "code",
   "execution_count": 50,
   "metadata": {},
   "outputs": [
    {
     "data": {
      "text/plain": [
       " Mr              512\n",
       " Miss            177\n",
       " Mrs             124\n",
       " Master           39\n",
       " Dr                7\n",
       " Rev               6\n",
       " Major             2\n",
       " Mlle              2\n",
       " Col               2\n",
       " Sir               1\n",
       " Lady              1\n",
       " Don               1\n",
       " Ms                1\n",
       " the Countess      1\n",
       " Mme               1\n",
       " Capt              1\n",
       " Jonkheer          1\n",
       "Name: title, dtype: int64"
      ]
     },
     "execution_count": 50,
     "metadata": {},
     "output_type": "execute_result"
    }
   ],
   "source": [
    "# Répartition des observations pour chaque titre\n",
    "train['title'].value_counts()"
   ]
  },
  {
   "cell_type": "code",
   "execution_count": 51,
   "metadata": {},
   "outputs": [
    {
     "data": {
      "text/plain": [
       " Mr        240\n",
       " Miss       78\n",
       " Mrs        72\n",
       " Master     21\n",
       " Rev         2\n",
       " Col         2\n",
       " Ms          1\n",
       " Dr          1\n",
       " Dona        1\n",
       "Name: title, dtype: int64"
      ]
     },
     "execution_count": 51,
     "metadata": {},
     "output_type": "execute_result"
    }
   ],
   "source": [
    "test['title'].value_counts()"
   ]
  },
  {
   "cell_type": "markdown",
   "metadata": {},
   "source": [
    "+ **Cabin**"
   ]
  },
  {
   "cell_type": "code",
   "execution_count": 52,
   "metadata": {},
   "outputs": [
    {
     "data": {
      "text/plain": [
       "PassengerId\n",
       "1      NaN\n",
       "2      C85\n",
       "3      NaN\n",
       "4     C123\n",
       "5      NaN\n",
       "6      NaN\n",
       "7      E46\n",
       "8      NaN\n",
       "9      NaN\n",
       "10     NaN\n",
       "11      G6\n",
       "12    C103\n",
       "13     NaN\n",
       "14     NaN\n",
       "15     NaN\n",
       "Name: Cabin, dtype: object"
      ]
     },
     "execution_count": 52,
     "metadata": {},
     "output_type": "execute_result"
    }
   ],
   "source": [
    "train['Cabin'].head(15)"
   ]
  },
  {
   "cell_type": "markdown",
   "metadata": {},
   "source": [
    "Lorsqu'il n'y a pas de NaN, La variable **Cabin** donne toujours une lettre puis un nombre. Après quelques recherches il s'est avéré que la lettre correspondait au 'pont', et le nombre au numéro de cabine. Le nauffrage s'est déroulé dans la nuit du 14 au 15 avril 1912 ce qui signifie que les passagers étaient sûrement dans leur cabine à l'heure où le navire à percuté l'iceberg. Les différentes distances entre les cabines et les canots de sauvetage ont dû déterminer le sort des passagers. Nous avons donc supposé que les passagers des cabines éloignées du pont des canots de sauvetage ont eu moins de chance de s'en sortir vivants."
   ]
  },
  {
   "cell_type": "code",
   "execution_count": 53,
   "metadata": {},
   "outputs": [],
   "source": [
    "train['Cabin'] = train.Cabin.map(lambda x : x[0] if not pd.isnull(x) else -1)\n",
    "test['Cabin'] = test.Cabin.map(lambda x : x[0] if not pd.isnull(x) else -1)"
   ]
  },
  {
   "cell_type": "code",
   "execution_count": 54,
   "metadata": {},
   "outputs": [
    {
     "data": {
      "text/plain": [
       "-1    679\n",
       "C      59\n",
       "B      43\n",
       "D      33\n",
       "E      32\n",
       "A      15\n",
       "F      13\n",
       "G       4\n",
       "T       1\n",
       "Name: Cabin, dtype: int64"
      ]
     },
     "execution_count": 54,
     "metadata": {},
     "output_type": "execute_result"
    }
   ],
   "source": [
    "train['Cabin'].value_counts()"
   ]
  },
  {
   "cell_type": "markdown",
   "metadata": {},
   "source": [
    "+ **PREPARATION DE LA BASE AVANT MODELISATIONS**"
   ]
  },
  {
   "cell_type": "markdown",
   "metadata": {},
   "source": [
    "**On met au bon format les variables**"
   ]
  },
  {
   "cell_type": "code",
   "execution_count": 55,
   "metadata": {},
   "outputs": [],
   "source": [
    "# on définit les colonnes et les transformations pour \n",
    "# les colonnes quantitatives/variables qualitatives\n",
    "col_quanti = ['Age', 'SibSp', 'Parch', 'Fare']\n",
    "col_quali = ['Survived', 'Pclass', 'Sex' , 'Cabin', 'Embarked', 'is_child','title']"
   ]
  },
  {
   "cell_type": "code",
   "execution_count": 56,
   "metadata": {},
   "outputs": [],
   "source": [
    "# On recode les différentes variables\n",
    "#train['Sex'] = coding(col=train['Sex'], codeDict={'female':0,'male':1})\n",
    "#train['Embarked'] = coding(col=train['Embarked'], codeDict={'S':0,'C':1, 'Q':2})\n",
    "#train['is_child'] = coding(col=train['is_child'], codeDict={'False':0,'True':1})"
   ]
  },
  {
   "cell_type": "code",
   "execution_count": 57,
   "metadata": {},
   "outputs": [],
   "source": [
    "# On retire les colonnes en trop dans les 2 jeux \n",
    "train.drop(['Name', 'Ticket'], axis='columns', inplace=True)\n",
    "test.drop(['Name', 'Ticket'], axis='columns', inplace=True)"
   ]
  },
  {
   "cell_type": "code",
   "execution_count": 58,
   "metadata": {},
   "outputs": [
    {
     "data": {
      "text/plain": [
       "Survived      int64\n",
       "Pclass        int64\n",
       "Sex          object\n",
       "Age         float64\n",
       "SibSp         int64\n",
       "Parch         int64\n",
       "Fare        float64\n",
       "Cabin        object\n",
       "Embarked     object\n",
       "is_child       bool\n",
       "title        object\n",
       "dtype: object"
      ]
     },
     "execution_count": 58,
     "metadata": {},
     "output_type": "execute_result"
    }
   ],
   "source": [
    "train.dtypes"
   ]
  },
  {
   "cell_type": "code",
   "execution_count": 59,
   "metadata": {},
   "outputs": [],
   "source": [
    "# Variables quali\n",
    "train['Survived']=train['Survived'].astype(np.object)\n",
    "train['Pclass']=train['Pclass'].astype(np.object)\n",
    "train['is_child']=train['is_child'].astype(np.object)\n",
    "# Variables quanti déjà au bon format"
   ]
  },
  {
   "cell_type": "code",
   "execution_count": 60,
   "metadata": {},
   "outputs": [
    {
     "data": {
      "text/plain": [
       "Survived     object\n",
       "Pclass       object\n",
       "Sex          object\n",
       "Age         float64\n",
       "SibSp         int64\n",
       "Parch         int64\n",
       "Fare        float64\n",
       "Cabin        object\n",
       "Embarked     object\n",
       "is_child     object\n",
       "title        object\n",
       "dtype: object"
      ]
     },
     "execution_count": 60,
     "metadata": {},
     "output_type": "execute_result"
    }
   ],
   "source": [
    "# Vérification des format\n",
    "train.dtypes"
   ]
  },
  {
   "cell_type": "markdown",
   "metadata": {},
   "source": [
    "**On créé 2 df avec Y d'une part et les Xi de l'autre**"
   ]
  },
  {
   "cell_type": "code",
   "execution_count": 61,
   "metadata": {},
   "outputs": [],
   "source": [
    "#On sépare Y et X \n",
    "Y = pd.DataFrame(train['Survived'])\n",
    "train.drop(['Survived'], axis='columns', inplace=True)\n",
    "X = train\n",
    "col = X.columns"
   ]
  },
  {
   "cell_type": "code",
   "execution_count": 62,
   "metadata": {},
   "outputs": [
    {
     "data": {
      "text/html": [
       "<div>\n",
       "<style scoped>\n",
       "    .dataframe tbody tr th:only-of-type {\n",
       "        vertical-align: middle;\n",
       "    }\n",
       "\n",
       "    .dataframe tbody tr th {\n",
       "        vertical-align: top;\n",
       "    }\n",
       "\n",
       "    .dataframe thead th {\n",
       "        text-align: right;\n",
       "    }\n",
       "</style>\n",
       "<table border=\"1\" class=\"dataframe\">\n",
       "  <thead>\n",
       "    <tr style=\"text-align: right;\">\n",
       "      <th></th>\n",
       "      <th>Pclass</th>\n",
       "      <th>Sex</th>\n",
       "      <th>Age</th>\n",
       "      <th>SibSp</th>\n",
       "      <th>Parch</th>\n",
       "      <th>Fare</th>\n",
       "      <th>Cabin</th>\n",
       "      <th>Embarked</th>\n",
       "      <th>is_child</th>\n",
       "      <th>title</th>\n",
       "    </tr>\n",
       "    <tr>\n",
       "      <th>PassengerId</th>\n",
       "      <th></th>\n",
       "      <th></th>\n",
       "      <th></th>\n",
       "      <th></th>\n",
       "      <th></th>\n",
       "      <th></th>\n",
       "      <th></th>\n",
       "      <th></th>\n",
       "      <th></th>\n",
       "      <th></th>\n",
       "    </tr>\n",
       "  </thead>\n",
       "  <tbody>\n",
       "    <tr>\n",
       "      <th>1</th>\n",
       "      <td>3</td>\n",
       "      <td>male</td>\n",
       "      <td>22.0</td>\n",
       "      <td>1</td>\n",
       "      <td>0</td>\n",
       "      <td>7.2500</td>\n",
       "      <td>-1</td>\n",
       "      <td>S</td>\n",
       "      <td>False</td>\n",
       "      <td>Mr</td>\n",
       "    </tr>\n",
       "    <tr>\n",
       "      <th>2</th>\n",
       "      <td>1</td>\n",
       "      <td>female</td>\n",
       "      <td>38.0</td>\n",
       "      <td>1</td>\n",
       "      <td>0</td>\n",
       "      <td>71.2833</td>\n",
       "      <td>C</td>\n",
       "      <td>C</td>\n",
       "      <td>False</td>\n",
       "      <td>Mrs</td>\n",
       "    </tr>\n",
       "    <tr>\n",
       "      <th>3</th>\n",
       "      <td>3</td>\n",
       "      <td>female</td>\n",
       "      <td>26.0</td>\n",
       "      <td>0</td>\n",
       "      <td>0</td>\n",
       "      <td>7.9250</td>\n",
       "      <td>-1</td>\n",
       "      <td>S</td>\n",
       "      <td>False</td>\n",
       "      <td>Miss</td>\n",
       "    </tr>\n",
       "    <tr>\n",
       "      <th>4</th>\n",
       "      <td>1</td>\n",
       "      <td>female</td>\n",
       "      <td>35.0</td>\n",
       "      <td>1</td>\n",
       "      <td>0</td>\n",
       "      <td>53.1000</td>\n",
       "      <td>C</td>\n",
       "      <td>S</td>\n",
       "      <td>False</td>\n",
       "      <td>Mrs</td>\n",
       "    </tr>\n",
       "    <tr>\n",
       "      <th>5</th>\n",
       "      <td>3</td>\n",
       "      <td>male</td>\n",
       "      <td>35.0</td>\n",
       "      <td>0</td>\n",
       "      <td>0</td>\n",
       "      <td>8.0500</td>\n",
       "      <td>-1</td>\n",
       "      <td>S</td>\n",
       "      <td>False</td>\n",
       "      <td>Mr</td>\n",
       "    </tr>\n",
       "    <tr>\n",
       "      <th>...</th>\n",
       "      <td>...</td>\n",
       "      <td>...</td>\n",
       "      <td>...</td>\n",
       "      <td>...</td>\n",
       "      <td>...</td>\n",
       "      <td>...</td>\n",
       "      <td>...</td>\n",
       "      <td>...</td>\n",
       "      <td>...</td>\n",
       "      <td>...</td>\n",
       "    </tr>\n",
       "    <tr>\n",
       "      <th>887</th>\n",
       "      <td>2</td>\n",
       "      <td>male</td>\n",
       "      <td>27.0</td>\n",
       "      <td>0</td>\n",
       "      <td>0</td>\n",
       "      <td>13.0000</td>\n",
       "      <td>-1</td>\n",
       "      <td>S</td>\n",
       "      <td>False</td>\n",
       "      <td>Rev</td>\n",
       "    </tr>\n",
       "    <tr>\n",
       "      <th>888</th>\n",
       "      <td>1</td>\n",
       "      <td>female</td>\n",
       "      <td>19.0</td>\n",
       "      <td>0</td>\n",
       "      <td>0</td>\n",
       "      <td>30.0000</td>\n",
       "      <td>B</td>\n",
       "      <td>S</td>\n",
       "      <td>False</td>\n",
       "      <td>Miss</td>\n",
       "    </tr>\n",
       "    <tr>\n",
       "      <th>889</th>\n",
       "      <td>3</td>\n",
       "      <td>female</td>\n",
       "      <td>28.0</td>\n",
       "      <td>1</td>\n",
       "      <td>2</td>\n",
       "      <td>23.4500</td>\n",
       "      <td>-1</td>\n",
       "      <td>S</td>\n",
       "      <td>False</td>\n",
       "      <td>Miss</td>\n",
       "    </tr>\n",
       "    <tr>\n",
       "      <th>890</th>\n",
       "      <td>1</td>\n",
       "      <td>male</td>\n",
       "      <td>26.0</td>\n",
       "      <td>0</td>\n",
       "      <td>0</td>\n",
       "      <td>30.0000</td>\n",
       "      <td>C</td>\n",
       "      <td>C</td>\n",
       "      <td>False</td>\n",
       "      <td>Mr</td>\n",
       "    </tr>\n",
       "    <tr>\n",
       "      <th>891</th>\n",
       "      <td>3</td>\n",
       "      <td>male</td>\n",
       "      <td>32.0</td>\n",
       "      <td>0</td>\n",
       "      <td>0</td>\n",
       "      <td>7.7500</td>\n",
       "      <td>-1</td>\n",
       "      <td>Q</td>\n",
       "      <td>False</td>\n",
       "      <td>Mr</td>\n",
       "    </tr>\n",
       "  </tbody>\n",
       "</table>\n",
       "<p>879 rows × 10 columns</p>\n",
       "</div>"
      ],
      "text/plain": [
       "            Pclass     Sex   Age  SibSp  Parch     Fare Cabin Embarked  \\\n",
       "PassengerId                                                              \n",
       "1                3    male  22.0      1      0   7.2500    -1        S   \n",
       "2                1  female  38.0      1      0  71.2833     C        C   \n",
       "3                3  female  26.0      0      0   7.9250    -1        S   \n",
       "4                1  female  35.0      1      0  53.1000     C        S   \n",
       "5                3    male  35.0      0      0   8.0500    -1        S   \n",
       "...            ...     ...   ...    ...    ...      ...   ...      ...   \n",
       "887              2    male  27.0      0      0  13.0000    -1        S   \n",
       "888              1  female  19.0      0      0  30.0000     B        S   \n",
       "889              3  female  28.0      1      2  23.4500    -1        S   \n",
       "890              1    male  26.0      0      0  30.0000     C        C   \n",
       "891              3    male  32.0      0      0   7.7500    -1        Q   \n",
       "\n",
       "            is_child  title  \n",
       "PassengerId                  \n",
       "1              False     Mr  \n",
       "2              False    Mrs  \n",
       "3              False   Miss  \n",
       "4              False    Mrs  \n",
       "5              False     Mr  \n",
       "...              ...    ...  \n",
       "887            False    Rev  \n",
       "888            False   Miss  \n",
       "889            False   Miss  \n",
       "890            False     Mr  \n",
       "891            False     Mr  \n",
       "\n",
       "[879 rows x 10 columns]"
      ]
     },
     "execution_count": 62,
     "metadata": {},
     "output_type": "execute_result"
    }
   ],
   "source": [
    "X   # indice des passagers va jusqu'à 891 mais 879 observations en réalité (depuis suppression NA et outliers)"
   ]
  },
  {
   "cell_type": "markdown",
   "metadata": {},
   "source": [
    "**On standardise les variables quantitatives**"
   ]
  },
  {
   "cell_type": "code",
   "execution_count": 63,
   "metadata": {},
   "outputs": [
    {
     "data": {
      "text/html": [
       "<div>\n",
       "<style scoped>\n",
       "    .dataframe tbody tr th:only-of-type {\n",
       "        vertical-align: middle;\n",
       "    }\n",
       "\n",
       "    .dataframe tbody tr th {\n",
       "        vertical-align: top;\n",
       "    }\n",
       "\n",
       "    .dataframe thead th {\n",
       "        text-align: right;\n",
       "    }\n",
       "</style>\n",
       "<table border=\"1\" class=\"dataframe\">\n",
       "  <thead>\n",
       "    <tr style=\"text-align: right;\">\n",
       "      <th></th>\n",
       "      <th>Age</th>\n",
       "      <th>SibSp</th>\n",
       "      <th>Parch</th>\n",
       "      <th>Fare</th>\n",
       "    </tr>\n",
       "    <tr>\n",
       "      <th>PassengerId</th>\n",
       "      <th></th>\n",
       "      <th></th>\n",
       "      <th></th>\n",
       "      <th></th>\n",
       "    </tr>\n",
       "  </thead>\n",
       "  <tbody>\n",
       "    <tr>\n",
       "      <th>1</th>\n",
       "      <td>22.0</td>\n",
       "      <td>1</td>\n",
       "      <td>0</td>\n",
       "      <td>7.2500</td>\n",
       "    </tr>\n",
       "    <tr>\n",
       "      <th>2</th>\n",
       "      <td>38.0</td>\n",
       "      <td>1</td>\n",
       "      <td>0</td>\n",
       "      <td>71.2833</td>\n",
       "    </tr>\n",
       "    <tr>\n",
       "      <th>3</th>\n",
       "      <td>26.0</td>\n",
       "      <td>0</td>\n",
       "      <td>0</td>\n",
       "      <td>7.9250</td>\n",
       "    </tr>\n",
       "    <tr>\n",
       "      <th>4</th>\n",
       "      <td>35.0</td>\n",
       "      <td>1</td>\n",
       "      <td>0</td>\n",
       "      <td>53.1000</td>\n",
       "    </tr>\n",
       "    <tr>\n",
       "      <th>5</th>\n",
       "      <td>35.0</td>\n",
       "      <td>0</td>\n",
       "      <td>0</td>\n",
       "      <td>8.0500</td>\n",
       "    </tr>\n",
       "    <tr>\n",
       "      <th>...</th>\n",
       "      <td>...</td>\n",
       "      <td>...</td>\n",
       "      <td>...</td>\n",
       "      <td>...</td>\n",
       "    </tr>\n",
       "    <tr>\n",
       "      <th>887</th>\n",
       "      <td>27.0</td>\n",
       "      <td>0</td>\n",
       "      <td>0</td>\n",
       "      <td>13.0000</td>\n",
       "    </tr>\n",
       "    <tr>\n",
       "      <th>888</th>\n",
       "      <td>19.0</td>\n",
       "      <td>0</td>\n",
       "      <td>0</td>\n",
       "      <td>30.0000</td>\n",
       "    </tr>\n",
       "    <tr>\n",
       "      <th>889</th>\n",
       "      <td>28.0</td>\n",
       "      <td>1</td>\n",
       "      <td>2</td>\n",
       "      <td>23.4500</td>\n",
       "    </tr>\n",
       "    <tr>\n",
       "      <th>890</th>\n",
       "      <td>26.0</td>\n",
       "      <td>0</td>\n",
       "      <td>0</td>\n",
       "      <td>30.0000</td>\n",
       "    </tr>\n",
       "    <tr>\n",
       "      <th>891</th>\n",
       "      <td>32.0</td>\n",
       "      <td>0</td>\n",
       "      <td>0</td>\n",
       "      <td>7.7500</td>\n",
       "    </tr>\n",
       "  </tbody>\n",
       "</table>\n",
       "<p>879 rows × 4 columns</p>\n",
       "</div>"
      ],
      "text/plain": [
       "              Age  SibSp  Parch     Fare\n",
       "PassengerId                             \n",
       "1            22.0      1      0   7.2500\n",
       "2            38.0      1      0  71.2833\n",
       "3            26.0      0      0   7.9250\n",
       "4            35.0      1      0  53.1000\n",
       "5            35.0      0      0   8.0500\n",
       "...           ...    ...    ...      ...\n",
       "887          27.0      0      0  13.0000\n",
       "888          19.0      0      0  30.0000\n",
       "889          28.0      1      2  23.4500\n",
       "890          26.0      0      0  30.0000\n",
       "891          32.0      0      0   7.7500\n",
       "\n",
       "[879 rows x 4 columns]"
      ]
     },
     "execution_count": 63,
     "metadata": {},
     "output_type": "execute_result"
    }
   ],
   "source": [
    "X_quanti = pd.DataFrame(X[['Age', 'SibSp', 'Parch', 'Fare']])\n",
    "X_quanti"
   ]
  },
  {
   "cell_type": "code",
   "execution_count": 64,
   "metadata": {},
   "outputs": [
    {
     "data": {
      "text/plain": [
       "(879, 4)"
      ]
     },
     "execution_count": 64,
     "metadata": {},
     "output_type": "execute_result"
    }
   ],
   "source": [
    "from sklearn import preprocessing\n",
    "X_scaled_train = preprocessing.scale(X_quanti)\n",
    "X_scaled_train = pd.DataFrame(X_scaled_train, columns=['Age', 'SibSp', 'Parch', 'Fare'])\n",
    "X_scaled_train.shape"
   ]
  },
  {
   "cell_type": "markdown",
   "metadata": {},
   "source": [
    "**On rassemble le tout en un df 'train'**"
   ]
  },
  {
   "cell_type": "code",
   "execution_count": 65,
   "metadata": {
    "scrolled": false
   },
   "outputs": [
    {
     "data": {
      "text/html": [
       "<div>\n",
       "<style scoped>\n",
       "    .dataframe tbody tr th:only-of-type {\n",
       "        vertical-align: middle;\n",
       "    }\n",
       "\n",
       "    .dataframe tbody tr th {\n",
       "        vertical-align: top;\n",
       "    }\n",
       "\n",
       "    .dataframe thead th {\n",
       "        text-align: right;\n",
       "    }\n",
       "</style>\n",
       "<table border=\"1\" class=\"dataframe\">\n",
       "  <thead>\n",
       "    <tr style=\"text-align: right;\">\n",
       "      <th></th>\n",
       "      <th>Survived</th>\n",
       "      <th>Pclass</th>\n",
       "      <th>Sex</th>\n",
       "      <th>Age</th>\n",
       "      <th>SibSp</th>\n",
       "      <th>Parch</th>\n",
       "      <th>Fare</th>\n",
       "      <th>Cabin</th>\n",
       "      <th>Embarked</th>\n",
       "      <th>is_child</th>\n",
       "      <th>title</th>\n",
       "    </tr>\n",
       "    <tr>\n",
       "      <th>PassengerId</th>\n",
       "      <th></th>\n",
       "      <th></th>\n",
       "      <th></th>\n",
       "      <th></th>\n",
       "      <th></th>\n",
       "      <th></th>\n",
       "      <th></th>\n",
       "      <th></th>\n",
       "      <th></th>\n",
       "      <th></th>\n",
       "      <th></th>\n",
       "    </tr>\n",
       "  </thead>\n",
       "  <tbody>\n",
       "    <tr>\n",
       "      <th>1</th>\n",
       "      <td>0</td>\n",
       "      <td>3</td>\n",
       "      <td>male</td>\n",
       "      <td>22.0</td>\n",
       "      <td>1</td>\n",
       "      <td>0</td>\n",
       "      <td>7.2500</td>\n",
       "      <td>-1</td>\n",
       "      <td>S</td>\n",
       "      <td>False</td>\n",
       "      <td>Mr</td>\n",
       "    </tr>\n",
       "    <tr>\n",
       "      <th>2</th>\n",
       "      <td>1</td>\n",
       "      <td>1</td>\n",
       "      <td>female</td>\n",
       "      <td>38.0</td>\n",
       "      <td>1</td>\n",
       "      <td>0</td>\n",
       "      <td>71.2833</td>\n",
       "      <td>C</td>\n",
       "      <td>C</td>\n",
       "      <td>False</td>\n",
       "      <td>Mrs</td>\n",
       "    </tr>\n",
       "    <tr>\n",
       "      <th>3</th>\n",
       "      <td>1</td>\n",
       "      <td>3</td>\n",
       "      <td>female</td>\n",
       "      <td>26.0</td>\n",
       "      <td>0</td>\n",
       "      <td>0</td>\n",
       "      <td>7.9250</td>\n",
       "      <td>-1</td>\n",
       "      <td>S</td>\n",
       "      <td>False</td>\n",
       "      <td>Miss</td>\n",
       "    </tr>\n",
       "    <tr>\n",
       "      <th>4</th>\n",
       "      <td>1</td>\n",
       "      <td>1</td>\n",
       "      <td>female</td>\n",
       "      <td>35.0</td>\n",
       "      <td>1</td>\n",
       "      <td>0</td>\n",
       "      <td>53.1000</td>\n",
       "      <td>C</td>\n",
       "      <td>S</td>\n",
       "      <td>False</td>\n",
       "      <td>Mrs</td>\n",
       "    </tr>\n",
       "    <tr>\n",
       "      <th>5</th>\n",
       "      <td>0</td>\n",
       "      <td>3</td>\n",
       "      <td>male</td>\n",
       "      <td>35.0</td>\n",
       "      <td>0</td>\n",
       "      <td>0</td>\n",
       "      <td>8.0500</td>\n",
       "      <td>-1</td>\n",
       "      <td>S</td>\n",
       "      <td>False</td>\n",
       "      <td>Mr</td>\n",
       "    </tr>\n",
       "    <tr>\n",
       "      <th>...</th>\n",
       "      <td>...</td>\n",
       "      <td>...</td>\n",
       "      <td>...</td>\n",
       "      <td>...</td>\n",
       "      <td>...</td>\n",
       "      <td>...</td>\n",
       "      <td>...</td>\n",
       "      <td>...</td>\n",
       "      <td>...</td>\n",
       "      <td>...</td>\n",
       "      <td>...</td>\n",
       "    </tr>\n",
       "    <tr>\n",
       "      <th>887</th>\n",
       "      <td>0</td>\n",
       "      <td>2</td>\n",
       "      <td>male</td>\n",
       "      <td>27.0</td>\n",
       "      <td>0</td>\n",
       "      <td>0</td>\n",
       "      <td>13.0000</td>\n",
       "      <td>-1</td>\n",
       "      <td>S</td>\n",
       "      <td>False</td>\n",
       "      <td>Rev</td>\n",
       "    </tr>\n",
       "    <tr>\n",
       "      <th>888</th>\n",
       "      <td>1</td>\n",
       "      <td>1</td>\n",
       "      <td>female</td>\n",
       "      <td>19.0</td>\n",
       "      <td>0</td>\n",
       "      <td>0</td>\n",
       "      <td>30.0000</td>\n",
       "      <td>B</td>\n",
       "      <td>S</td>\n",
       "      <td>False</td>\n",
       "      <td>Miss</td>\n",
       "    </tr>\n",
       "    <tr>\n",
       "      <th>889</th>\n",
       "      <td>0</td>\n",
       "      <td>3</td>\n",
       "      <td>female</td>\n",
       "      <td>28.0</td>\n",
       "      <td>1</td>\n",
       "      <td>2</td>\n",
       "      <td>23.4500</td>\n",
       "      <td>-1</td>\n",
       "      <td>S</td>\n",
       "      <td>False</td>\n",
       "      <td>Miss</td>\n",
       "    </tr>\n",
       "    <tr>\n",
       "      <th>890</th>\n",
       "      <td>1</td>\n",
       "      <td>1</td>\n",
       "      <td>male</td>\n",
       "      <td>26.0</td>\n",
       "      <td>0</td>\n",
       "      <td>0</td>\n",
       "      <td>30.0000</td>\n",
       "      <td>C</td>\n",
       "      <td>C</td>\n",
       "      <td>False</td>\n",
       "      <td>Mr</td>\n",
       "    </tr>\n",
       "    <tr>\n",
       "      <th>891</th>\n",
       "      <td>0</td>\n",
       "      <td>3</td>\n",
       "      <td>male</td>\n",
       "      <td>32.0</td>\n",
       "      <td>0</td>\n",
       "      <td>0</td>\n",
       "      <td>7.7500</td>\n",
       "      <td>-1</td>\n",
       "      <td>Q</td>\n",
       "      <td>False</td>\n",
       "      <td>Mr</td>\n",
       "    </tr>\n",
       "  </tbody>\n",
       "</table>\n",
       "<p>879 rows × 11 columns</p>\n",
       "</div>"
      ],
      "text/plain": [
       "            Survived Pclass     Sex   Age  SibSp  Parch     Fare Cabin  \\\n",
       "PassengerId                                                              \n",
       "1                  0      3    male  22.0      1      0   7.2500    -1   \n",
       "2                  1      1  female  38.0      1      0  71.2833     C   \n",
       "3                  1      3  female  26.0      0      0   7.9250    -1   \n",
       "4                  1      1  female  35.0      1      0  53.1000     C   \n",
       "5                  0      3    male  35.0      0      0   8.0500    -1   \n",
       "...              ...    ...     ...   ...    ...    ...      ...   ...   \n",
       "887                0      2    male  27.0      0      0  13.0000    -1   \n",
       "888                1      1  female  19.0      0      0  30.0000     B   \n",
       "889                0      3  female  28.0      1      2  23.4500    -1   \n",
       "890                1      1    male  26.0      0      0  30.0000     C   \n",
       "891                0      3    male  32.0      0      0   7.7500    -1   \n",
       "\n",
       "            Embarked is_child  title  \n",
       "PassengerId                           \n",
       "1                  S    False     Mr  \n",
       "2                  C    False    Mrs  \n",
       "3                  S    False   Miss  \n",
       "4                  S    False    Mrs  \n",
       "5                  S    False     Mr  \n",
       "...              ...      ...    ...  \n",
       "887                S    False    Rev  \n",
       "888                S    False   Miss  \n",
       "889                S    False   Miss  \n",
       "890                C    False     Mr  \n",
       "891                Q    False     Mr  \n",
       "\n",
       "[879 rows x 11 columns]"
      ]
     },
     "execution_count": 65,
     "metadata": {},
     "output_type": "execute_result"
    }
   ],
   "source": [
    "# Y et X avec variables quanti non standardisées\n",
    "train = pd.merge(Y, X, on='PassengerId')\n",
    "train"
   ]
  },
  {
   "cell_type": "code",
   "execution_count": 66,
   "metadata": {},
   "outputs": [
    {
     "data": {
      "text/html": [
       "<div>\n",
       "<style scoped>\n",
       "    .dataframe tbody tr th:only-of-type {\n",
       "        vertical-align: middle;\n",
       "    }\n",
       "\n",
       "    .dataframe tbody tr th {\n",
       "        vertical-align: top;\n",
       "    }\n",
       "\n",
       "    .dataframe thead th {\n",
       "        text-align: right;\n",
       "    }\n",
       "</style>\n",
       "<table border=\"1\" class=\"dataframe\">\n",
       "  <thead>\n",
       "    <tr style=\"text-align: right;\">\n",
       "      <th></th>\n",
       "      <th>PassengerId</th>\n",
       "      <th>Survived</th>\n",
       "      <th>Pclass</th>\n",
       "      <th>Sex</th>\n",
       "      <th>Cabin</th>\n",
       "      <th>Embarked</th>\n",
       "      <th>is_child</th>\n",
       "      <th>title</th>\n",
       "    </tr>\n",
       "  </thead>\n",
       "  <tbody>\n",
       "    <tr>\n",
       "      <th>0</th>\n",
       "      <td>1</td>\n",
       "      <td>0</td>\n",
       "      <td>3</td>\n",
       "      <td>male</td>\n",
       "      <td>-1</td>\n",
       "      <td>S</td>\n",
       "      <td>False</td>\n",
       "      <td>Mr</td>\n",
       "    </tr>\n",
       "    <tr>\n",
       "      <th>1</th>\n",
       "      <td>2</td>\n",
       "      <td>1</td>\n",
       "      <td>1</td>\n",
       "      <td>female</td>\n",
       "      <td>C</td>\n",
       "      <td>C</td>\n",
       "      <td>False</td>\n",
       "      <td>Mrs</td>\n",
       "    </tr>\n",
       "    <tr>\n",
       "      <th>2</th>\n",
       "      <td>3</td>\n",
       "      <td>1</td>\n",
       "      <td>3</td>\n",
       "      <td>female</td>\n",
       "      <td>-1</td>\n",
       "      <td>S</td>\n",
       "      <td>False</td>\n",
       "      <td>Miss</td>\n",
       "    </tr>\n",
       "    <tr>\n",
       "      <th>3</th>\n",
       "      <td>4</td>\n",
       "      <td>1</td>\n",
       "      <td>1</td>\n",
       "      <td>female</td>\n",
       "      <td>C</td>\n",
       "      <td>S</td>\n",
       "      <td>False</td>\n",
       "      <td>Mrs</td>\n",
       "    </tr>\n",
       "    <tr>\n",
       "      <th>4</th>\n",
       "      <td>5</td>\n",
       "      <td>0</td>\n",
       "      <td>3</td>\n",
       "      <td>male</td>\n",
       "      <td>-1</td>\n",
       "      <td>S</td>\n",
       "      <td>False</td>\n",
       "      <td>Mr</td>\n",
       "    </tr>\n",
       "    <tr>\n",
       "      <th>...</th>\n",
       "      <td>...</td>\n",
       "      <td>...</td>\n",
       "      <td>...</td>\n",
       "      <td>...</td>\n",
       "      <td>...</td>\n",
       "      <td>...</td>\n",
       "      <td>...</td>\n",
       "      <td>...</td>\n",
       "    </tr>\n",
       "    <tr>\n",
       "      <th>874</th>\n",
       "      <td>887</td>\n",
       "      <td>0</td>\n",
       "      <td>2</td>\n",
       "      <td>male</td>\n",
       "      <td>-1</td>\n",
       "      <td>S</td>\n",
       "      <td>False</td>\n",
       "      <td>Rev</td>\n",
       "    </tr>\n",
       "    <tr>\n",
       "      <th>875</th>\n",
       "      <td>888</td>\n",
       "      <td>1</td>\n",
       "      <td>1</td>\n",
       "      <td>female</td>\n",
       "      <td>B</td>\n",
       "      <td>S</td>\n",
       "      <td>False</td>\n",
       "      <td>Miss</td>\n",
       "    </tr>\n",
       "    <tr>\n",
       "      <th>876</th>\n",
       "      <td>889</td>\n",
       "      <td>0</td>\n",
       "      <td>3</td>\n",
       "      <td>female</td>\n",
       "      <td>-1</td>\n",
       "      <td>S</td>\n",
       "      <td>False</td>\n",
       "      <td>Miss</td>\n",
       "    </tr>\n",
       "    <tr>\n",
       "      <th>877</th>\n",
       "      <td>890</td>\n",
       "      <td>1</td>\n",
       "      <td>1</td>\n",
       "      <td>male</td>\n",
       "      <td>C</td>\n",
       "      <td>C</td>\n",
       "      <td>False</td>\n",
       "      <td>Mr</td>\n",
       "    </tr>\n",
       "    <tr>\n",
       "      <th>878</th>\n",
       "      <td>891</td>\n",
       "      <td>0</td>\n",
       "      <td>3</td>\n",
       "      <td>male</td>\n",
       "      <td>-1</td>\n",
       "      <td>Q</td>\n",
       "      <td>False</td>\n",
       "      <td>Mr</td>\n",
       "    </tr>\n",
       "  </tbody>\n",
       "</table>\n",
       "<p>879 rows × 8 columns</p>\n",
       "</div>"
      ],
      "text/plain": [
       "     PassengerId Survived Pclass     Sex Cabin Embarked is_child  title\n",
       "0              1        0      3    male    -1        S    False     Mr\n",
       "1              2        1      1  female     C        C    False    Mrs\n",
       "2              3        1      3  female    -1        S    False   Miss\n",
       "3              4        1      1  female     C        S    False    Mrs\n",
       "4              5        0      3    male    -1        S    False     Mr\n",
       "..           ...      ...    ...     ...   ...      ...      ...    ...\n",
       "874          887        0      2    male    -1        S    False    Rev\n",
       "875          888        1      1  female     B        S    False   Miss\n",
       "876          889        0      3  female    -1        S    False   Miss\n",
       "877          890        1      1    male     C        C    False     Mr\n",
       "878          891        0      3    male    -1        Q    False     Mr\n",
       "\n",
       "[879 rows x 8 columns]"
      ]
     },
     "execution_count": 66,
     "metadata": {},
     "output_type": "execute_result"
    }
   ],
   "source": [
    "# On supprime les quanti non standardisées pour les remplacer par les nouvelles, et on supprime l'indice temporairement pour merger ensuite avec les nouvelles valeurs\n",
    "train = train.drop(train[['Age', 'SibSp', 'Parch', 'Fare']], axis='columns')\n",
    "train.reset_index(inplace=True)\n",
    "train"
   ]
  },
  {
   "cell_type": "code",
   "execution_count": 67,
   "metadata": {},
   "outputs": [
    {
     "data": {
      "text/html": [
       "<div>\n",
       "<style scoped>\n",
       "    .dataframe tbody tr th:only-of-type {\n",
       "        vertical-align: middle;\n",
       "    }\n",
       "\n",
       "    .dataframe tbody tr th {\n",
       "        vertical-align: top;\n",
       "    }\n",
       "\n",
       "    .dataframe thead th {\n",
       "        text-align: right;\n",
       "    }\n",
       "</style>\n",
       "<table border=\"1\" class=\"dataframe\">\n",
       "  <thead>\n",
       "    <tr style=\"text-align: right;\">\n",
       "      <th></th>\n",
       "      <th>Survived</th>\n",
       "      <th>Pclass</th>\n",
       "      <th>Sex</th>\n",
       "      <th>Cabin</th>\n",
       "      <th>Embarked</th>\n",
       "      <th>is_child</th>\n",
       "      <th>title</th>\n",
       "      <th>Age</th>\n",
       "      <th>SibSp</th>\n",
       "      <th>Parch</th>\n",
       "      <th>Fare</th>\n",
       "    </tr>\n",
       "    <tr>\n",
       "      <th>PassengerId</th>\n",
       "      <th></th>\n",
       "      <th></th>\n",
       "      <th></th>\n",
       "      <th></th>\n",
       "      <th></th>\n",
       "      <th></th>\n",
       "      <th></th>\n",
       "      <th></th>\n",
       "      <th></th>\n",
       "      <th></th>\n",
       "      <th></th>\n",
       "    </tr>\n",
       "  </thead>\n",
       "  <tbody>\n",
       "    <tr>\n",
       "      <th>1</th>\n",
       "      <td>0</td>\n",
       "      <td>3</td>\n",
       "      <td>male</td>\n",
       "      <td>-1</td>\n",
       "      <td>S</td>\n",
       "      <td>False</td>\n",
       "      <td>Mr</td>\n",
       "      <td>-0.559951</td>\n",
       "      <td>0.603637</td>\n",
       "      <td>-0.463711</td>\n",
       "      <td>-0.556766</td>\n",
       "    </tr>\n",
       "    <tr>\n",
       "      <th>2</th>\n",
       "      <td>1</td>\n",
       "      <td>1</td>\n",
       "      <td>female</td>\n",
       "      <td>C</td>\n",
       "      <td>C</td>\n",
       "      <td>False</td>\n",
       "      <td>Mrs</td>\n",
       "      <td>0.666484</td>\n",
       "      <td>0.603637</td>\n",
       "      <td>-0.463711</td>\n",
       "      <td>0.999433</td>\n",
       "    </tr>\n",
       "    <tr>\n",
       "      <th>3</th>\n",
       "      <td>1</td>\n",
       "      <td>3</td>\n",
       "      <td>female</td>\n",
       "      <td>-1</td>\n",
       "      <td>S</td>\n",
       "      <td>False</td>\n",
       "      <td>Miss</td>\n",
       "      <td>-0.253342</td>\n",
       "      <td>-0.527700</td>\n",
       "      <td>-0.463711</td>\n",
       "      <td>-0.540362</td>\n",
       "    </tr>\n",
       "    <tr>\n",
       "      <th>4</th>\n",
       "      <td>1</td>\n",
       "      <td>1</td>\n",
       "      <td>female</td>\n",
       "      <td>C</td>\n",
       "      <td>S</td>\n",
       "      <td>False</td>\n",
       "      <td>Mrs</td>\n",
       "      <td>0.436528</td>\n",
       "      <td>0.603637</td>\n",
       "      <td>-0.463711</td>\n",
       "      <td>0.557525</td>\n",
       "    </tr>\n",
       "    <tr>\n",
       "      <th>5</th>\n",
       "      <td>0</td>\n",
       "      <td>3</td>\n",
       "      <td>male</td>\n",
       "      <td>-1</td>\n",
       "      <td>S</td>\n",
       "      <td>False</td>\n",
       "      <td>Mr</td>\n",
       "      <td>0.436528</td>\n",
       "      <td>-0.527700</td>\n",
       "      <td>-0.463711</td>\n",
       "      <td>-0.537324</td>\n",
       "    </tr>\n",
       "    <tr>\n",
       "      <th>...</th>\n",
       "      <td>...</td>\n",
       "      <td>...</td>\n",
       "      <td>...</td>\n",
       "      <td>...</td>\n",
       "      <td>...</td>\n",
       "      <td>...</td>\n",
       "      <td>...</td>\n",
       "      <td>...</td>\n",
       "      <td>...</td>\n",
       "      <td>...</td>\n",
       "      <td>...</td>\n",
       "    </tr>\n",
       "    <tr>\n",
       "      <th>887</th>\n",
       "      <td>0</td>\n",
       "      <td>2</td>\n",
       "      <td>male</td>\n",
       "      <td>-1</td>\n",
       "      <td>S</td>\n",
       "      <td>False</td>\n",
       "      <td>Rev</td>\n",
       "      <td>-0.176690</td>\n",
       "      <td>-0.527700</td>\n",
       "      <td>-0.463711</td>\n",
       "      <td>-0.417024</td>\n",
       "    </tr>\n",
       "    <tr>\n",
       "      <th>888</th>\n",
       "      <td>1</td>\n",
       "      <td>1</td>\n",
       "      <td>female</td>\n",
       "      <td>B</td>\n",
       "      <td>S</td>\n",
       "      <td>False</td>\n",
       "      <td>Miss</td>\n",
       "      <td>-0.789907</td>\n",
       "      <td>-0.527700</td>\n",
       "      <td>-0.463711</td>\n",
       "      <td>-0.003874</td>\n",
       "    </tr>\n",
       "    <tr>\n",
       "      <th>889</th>\n",
       "      <td>0</td>\n",
       "      <td>3</td>\n",
       "      <td>female</td>\n",
       "      <td>-1</td>\n",
       "      <td>S</td>\n",
       "      <td>False</td>\n",
       "      <td>Miss</td>\n",
       "      <td>-0.100038</td>\n",
       "      <td>0.603637</td>\n",
       "      <td>2.044607</td>\n",
       "      <td>-0.163058</td>\n",
       "    </tr>\n",
       "    <tr>\n",
       "      <th>890</th>\n",
       "      <td>1</td>\n",
       "      <td>1</td>\n",
       "      <td>male</td>\n",
       "      <td>C</td>\n",
       "      <td>C</td>\n",
       "      <td>False</td>\n",
       "      <td>Mr</td>\n",
       "      <td>-0.253342</td>\n",
       "      <td>-0.527700</td>\n",
       "      <td>-0.463711</td>\n",
       "      <td>-0.003874</td>\n",
       "    </tr>\n",
       "    <tr>\n",
       "      <th>891</th>\n",
       "      <td>0</td>\n",
       "      <td>3</td>\n",
       "      <td>male</td>\n",
       "      <td>-1</td>\n",
       "      <td>Q</td>\n",
       "      <td>False</td>\n",
       "      <td>Mr</td>\n",
       "      <td>0.206571</td>\n",
       "      <td>-0.527700</td>\n",
       "      <td>-0.463711</td>\n",
       "      <td>-0.544615</td>\n",
       "    </tr>\n",
       "  </tbody>\n",
       "</table>\n",
       "<p>879 rows × 11 columns</p>\n",
       "</div>"
      ],
      "text/plain": [
       "            Survived Pclass     Sex Cabin Embarked is_child  title       Age  \\\n",
       "PassengerId                                                                    \n",
       "1                  0      3    male    -1        S    False     Mr -0.559951   \n",
       "2                  1      1  female     C        C    False    Mrs  0.666484   \n",
       "3                  1      3  female    -1        S    False   Miss -0.253342   \n",
       "4                  1      1  female     C        S    False    Mrs  0.436528   \n",
       "5                  0      3    male    -1        S    False     Mr  0.436528   \n",
       "...              ...    ...     ...   ...      ...      ...    ...       ...   \n",
       "887                0      2    male    -1        S    False    Rev -0.176690   \n",
       "888                1      1  female     B        S    False   Miss -0.789907   \n",
       "889                0      3  female    -1        S    False   Miss -0.100038   \n",
       "890                1      1    male     C        C    False     Mr -0.253342   \n",
       "891                0      3    male    -1        Q    False     Mr  0.206571   \n",
       "\n",
       "                SibSp     Parch      Fare  \n",
       "PassengerId                                \n",
       "1            0.603637 -0.463711 -0.556766  \n",
       "2            0.603637 -0.463711  0.999433  \n",
       "3           -0.527700 -0.463711 -0.540362  \n",
       "4            0.603637 -0.463711  0.557525  \n",
       "5           -0.527700 -0.463711 -0.537324  \n",
       "...               ...       ...       ...  \n",
       "887         -0.527700 -0.463711 -0.417024  \n",
       "888         -0.527700 -0.463711 -0.003874  \n",
       "889          0.603637  2.044607 -0.163058  \n",
       "890         -0.527700 -0.463711 -0.003874  \n",
       "891         -0.527700 -0.463711 -0.544615  \n",
       "\n",
       "[879 rows x 11 columns]"
      ]
     },
     "execution_count": 67,
     "metadata": {},
     "output_type": "execute_result"
    }
   ],
   "source": [
    "# On remet le tout ensemble puis on réindice\n",
    "frames = [train,X_scaled_train]\n",
    "train = pd.concat(frames, axis=1)\n",
    "train.set_index('PassengerId',inplace=True,drop=True)\n",
    "train"
   ]
  },
  {
   "cell_type": "markdown",
   "metadata": {},
   "source": [
    "Notre base train est donc enfin prête pour les estimations !"
   ]
  },
  {
   "cell_type": "markdown",
   "metadata": {},
   "source": [
    "+ On fait rapidement la même chose pour la base **test**"
   ]
  },
  {
   "cell_type": "code",
   "execution_count": 68,
   "metadata": {},
   "outputs": [
    {
     "data": {
      "text/html": [
       "<div>\n",
       "<style scoped>\n",
       "    .dataframe tbody tr th:only-of-type {\n",
       "        vertical-align: middle;\n",
       "    }\n",
       "\n",
       "    .dataframe tbody tr th {\n",
       "        vertical-align: top;\n",
       "    }\n",
       "\n",
       "    .dataframe thead th {\n",
       "        text-align: right;\n",
       "    }\n",
       "</style>\n",
       "<table border=\"1\" class=\"dataframe\">\n",
       "  <thead>\n",
       "    <tr style=\"text-align: right;\">\n",
       "      <th></th>\n",
       "      <th>Pclass</th>\n",
       "      <th>Sex</th>\n",
       "      <th>Cabin</th>\n",
       "      <th>Embarked</th>\n",
       "      <th>is_child</th>\n",
       "      <th>title</th>\n",
       "      <th>Age</th>\n",
       "      <th>SibSp</th>\n",
       "      <th>Parch</th>\n",
       "      <th>Fare</th>\n",
       "    </tr>\n",
       "    <tr>\n",
       "      <th>PassengerId</th>\n",
       "      <th></th>\n",
       "      <th></th>\n",
       "      <th></th>\n",
       "      <th></th>\n",
       "      <th></th>\n",
       "      <th></th>\n",
       "      <th></th>\n",
       "      <th></th>\n",
       "      <th></th>\n",
       "      <th></th>\n",
       "    </tr>\n",
       "  </thead>\n",
       "  <tbody>\n",
       "    <tr>\n",
       "      <th>892</th>\n",
       "      <td>3</td>\n",
       "      <td>male</td>\n",
       "      <td>-1</td>\n",
       "      <td>Q</td>\n",
       "      <td>False</td>\n",
       "      <td>Mr</td>\n",
       "      <td>0.386231</td>\n",
       "      <td>-0.499470</td>\n",
       "      <td>-0.400248</td>\n",
       "      <td>-0.498407</td>\n",
       "    </tr>\n",
       "    <tr>\n",
       "      <th>893</th>\n",
       "      <td>3</td>\n",
       "      <td>female</td>\n",
       "      <td>-1</td>\n",
       "      <td>S</td>\n",
       "      <td>False</td>\n",
       "      <td>Mrs</td>\n",
       "      <td>1.371370</td>\n",
       "      <td>0.616992</td>\n",
       "      <td>-0.400248</td>\n",
       "      <td>-0.513274</td>\n",
       "    </tr>\n",
       "    <tr>\n",
       "      <th>894</th>\n",
       "      <td>2</td>\n",
       "      <td>male</td>\n",
       "      <td>-1</td>\n",
       "      <td>Q</td>\n",
       "      <td>False</td>\n",
       "      <td>Mr</td>\n",
       "      <td>2.553537</td>\n",
       "      <td>-0.499470</td>\n",
       "      <td>-0.400248</td>\n",
       "      <td>-0.465088</td>\n",
       "    </tr>\n",
       "    <tr>\n",
       "      <th>895</th>\n",
       "      <td>3</td>\n",
       "      <td>male</td>\n",
       "      <td>-1</td>\n",
       "      <td>S</td>\n",
       "      <td>False</td>\n",
       "      <td>Mr</td>\n",
       "      <td>-0.204852</td>\n",
       "      <td>-0.499470</td>\n",
       "      <td>-0.400248</td>\n",
       "      <td>-0.483466</td>\n",
       "    </tr>\n",
       "    <tr>\n",
       "      <th>896</th>\n",
       "      <td>3</td>\n",
       "      <td>female</td>\n",
       "      <td>-1</td>\n",
       "      <td>S</td>\n",
       "      <td>False</td>\n",
       "      <td>Mrs</td>\n",
       "      <td>-0.598908</td>\n",
       "      <td>0.616992</td>\n",
       "      <td>0.619896</td>\n",
       "      <td>-0.418471</td>\n",
       "    </tr>\n",
       "    <tr>\n",
       "      <th>...</th>\n",
       "      <td>...</td>\n",
       "      <td>...</td>\n",
       "      <td>...</td>\n",
       "      <td>...</td>\n",
       "      <td>...</td>\n",
       "      <td>...</td>\n",
       "      <td>...</td>\n",
       "      <td>...</td>\n",
       "      <td>...</td>\n",
       "      <td>...</td>\n",
       "    </tr>\n",
       "    <tr>\n",
       "      <th>1305</th>\n",
       "      <td>3</td>\n",
       "      <td>male</td>\n",
       "      <td>-1</td>\n",
       "      <td>S</td>\n",
       "      <td>False</td>\n",
       "      <td>Mr</td>\n",
       "      <td>-0.204852</td>\n",
       "      <td>-0.499470</td>\n",
       "      <td>-0.400248</td>\n",
       "      <td>-0.494448</td>\n",
       "    </tr>\n",
       "    <tr>\n",
       "      <th>1306</th>\n",
       "      <td>1</td>\n",
       "      <td>female</td>\n",
       "      <td>C</td>\n",
       "      <td>C</td>\n",
       "      <td>False</td>\n",
       "      <td>Dona</td>\n",
       "      <td>0.740881</td>\n",
       "      <td>-0.499470</td>\n",
       "      <td>-0.400248</td>\n",
       "      <td>1.313753</td>\n",
       "    </tr>\n",
       "    <tr>\n",
       "      <th>1307</th>\n",
       "      <td>3</td>\n",
       "      <td>male</td>\n",
       "      <td>-1</td>\n",
       "      <td>S</td>\n",
       "      <td>False</td>\n",
       "      <td>Mr</td>\n",
       "      <td>0.701476</td>\n",
       "      <td>-0.499470</td>\n",
       "      <td>-0.400248</td>\n",
       "      <td>-0.508792</td>\n",
       "    </tr>\n",
       "    <tr>\n",
       "      <th>1308</th>\n",
       "      <td>3</td>\n",
       "      <td>male</td>\n",
       "      <td>-1</td>\n",
       "      <td>S</td>\n",
       "      <td>False</td>\n",
       "      <td>Mr</td>\n",
       "      <td>-0.204852</td>\n",
       "      <td>-0.499470</td>\n",
       "      <td>-0.400248</td>\n",
       "      <td>-0.494448</td>\n",
       "    </tr>\n",
       "    <tr>\n",
       "      <th>1309</th>\n",
       "      <td>3</td>\n",
       "      <td>male</td>\n",
       "      <td>-1</td>\n",
       "      <td>C</td>\n",
       "      <td>False</td>\n",
       "      <td>Master</td>\n",
       "      <td>-0.204852</td>\n",
       "      <td>0.616992</td>\n",
       "      <td>0.619896</td>\n",
       "      <td>-0.237906</td>\n",
       "    </tr>\n",
       "  </tbody>\n",
       "</table>\n",
       "<p>418 rows × 10 columns</p>\n",
       "</div>"
      ],
      "text/plain": [
       "             Pclass     Sex Cabin Embarked  is_child    title       Age  \\\n",
       "PassengerId                                                               \n",
       "892               3    male    -1        Q     False       Mr  0.386231   \n",
       "893               3  female    -1        S     False      Mrs  1.371370   \n",
       "894               2    male    -1        Q     False       Mr  2.553537   \n",
       "895               3    male    -1        S     False       Mr -0.204852   \n",
       "896               3  female    -1        S     False      Mrs -0.598908   \n",
       "...             ...     ...   ...      ...       ...      ...       ...   \n",
       "1305              3    male    -1        S     False       Mr -0.204852   \n",
       "1306              1  female     C        C     False     Dona  0.740881   \n",
       "1307              3    male    -1        S     False       Mr  0.701476   \n",
       "1308              3    male    -1        S     False       Mr -0.204852   \n",
       "1309              3    male    -1        C     False   Master -0.204852   \n",
       "\n",
       "                SibSp     Parch      Fare  \n",
       "PassengerId                                \n",
       "892         -0.499470 -0.400248 -0.498407  \n",
       "893          0.616992 -0.400248 -0.513274  \n",
       "894         -0.499470 -0.400248 -0.465088  \n",
       "895         -0.499470 -0.400248 -0.483466  \n",
       "896          0.616992  0.619896 -0.418471  \n",
       "...               ...       ...       ...  \n",
       "1305        -0.499470 -0.400248 -0.494448  \n",
       "1306        -0.499470 -0.400248  1.313753  \n",
       "1307        -0.499470 -0.400248 -0.508792  \n",
       "1308        -0.499470 -0.400248 -0.494448  \n",
       "1309         0.616992  0.619896 -0.237906  \n",
       "\n",
       "[418 rows x 10 columns]"
      ]
     },
     "execution_count": 68,
     "metadata": {},
     "output_type": "execute_result"
    }
   ],
   "source": [
    "X_quanti = pd.DataFrame(test[['Age', 'SibSp', 'Parch', 'Fare']])\n",
    "X_scaled_test = preprocessing.scale(X_quanti)\n",
    "X_scaled_test = pd.DataFrame(X_scaled_test, columns=['Age', 'SibSp', 'Parch', 'Fare'])\n",
    "test = test.drop(train[['Age', 'SibSp', 'Parch', 'Fare']], axis='columns')\n",
    "test.reset_index(inplace=True)\n",
    "frames = [test,X_scaled_test]\n",
    "test = pd.concat(frames, axis=1)\n",
    "test.set_index('PassengerId',inplace=True,drop=True)\n",
    "test"
   ]
  },
  {
   "cell_type": "markdown",
   "metadata": {},
   "source": [
    "## Modélisations"
   ]
  },
  {
   "cell_type": "markdown",
   "metadata": {},
   "source": [
    "* Dans cette partie nous allons procéder aux différentes techniques de ML afin de prédire le nombre de survivants du Titanic. On doit pour cela standardiser les variables quantitatives et catégoriser les qualitatives (dummies), ce que nous ferrons en rassemblant les observations des jeux train et test dans un seul dataframe que nous rediviserons ensuite. Le but en effet est d'avoir les mêmes colonnes pour éviter tout problème lors de l'application du modèle construit sur le jeu test. \n"
   ]
  },
  {
   "cell_type": "code",
   "execution_count": 69,
   "metadata": {},
   "outputs": [],
   "source": [
    "# On passe les jeux en df et on enlève Y pour avoir les mêmes colonnes\n",
    "train = pd.DataFrame(train)\n",
    "train1 = train.drop([\"Survived\"],axis = 1)\n",
    "test = pd.DataFrame(test)"
   ]
  },
  {
   "cell_type": "code",
   "execution_count": 70,
   "metadata": {},
   "outputs": [
    {
     "data": {
      "text/plain": [
       "Pclass      category\n",
       "Sex         category\n",
       "Cabin       category\n",
       "Embarked    category\n",
       "is_child    category\n",
       "title       category\n",
       "Age          float64\n",
       "SibSp        float64\n",
       "Parch        float64\n",
       "Fare         float64\n",
       "dtype: object"
      ]
     },
     "execution_count": 70,
     "metadata": {},
     "output_type": "execute_result"
    }
   ],
   "source": [
    "# On rassemble train et test en mettant les observations à la suite\n",
    "transform = [train1,test]\n",
    "transform = pd.concat(transform, axis=0)\n",
    "\n",
    "# On passe les quali en catégorie\n",
    "transform[\"Pclass\"] = transform[\"Pclass\"].astype('category')\n",
    "transform[\"Sex\"] = transform[\"Sex\"].astype('category')\n",
    "transform[\"Cabin\"] = transform[\"Cabin\"].astype('category')\n",
    "transform[\"Embarked\"] = transform[\"Embarked\"].astype('category')\n",
    "transform[\"is_child\"] = transform[\"is_child\"].astype('category')\n",
    "transform[\"title\"] = transform[\"title\"].astype('category')\n",
    "transform.dtypes"
   ]
  },
  {
   "cell_type": "code",
   "execution_count": 71,
   "metadata": {},
   "outputs": [],
   "source": [
    "# On fait des dummies des variables quali\n",
    "import numpy as np\n",
    "transform1=pd.get_dummies(transform[[\"Pclass\",\"Sex\",\"Cabin\",\"Embarked\",\"is_child\",\"title\"]],drop_first = True)\n",
    "transform2=[transform1, transform[[\"Age\",\"SibSp\",\"Parch\",\"Fare\"]]]\n",
    "transform_final=pd.concat(transform2, axis=1)"
   ]
  },
  {
   "cell_type": "code",
   "execution_count": 72,
   "metadata": {},
   "outputs": [],
   "source": [
    "# On redivise les df\n",
    "X_train=transform_final.loc[1:891]\n",
    "X_test=transform_final.loc[892:1309]"
   ]
  },
  {
   "cell_type": "code",
   "execution_count": 73,
   "metadata": {},
   "outputs": [],
   "source": [
    "# On garde Y\n",
    "Survived=train[['Survived']]\n",
    "Y = pd.DataFrame(Survived)"
   ]
  },
  {
   "cell_type": "markdown",
   "metadata": {},
   "source": [
    "### LogisticRegression"
   ]
  },
  {
   "cell_type": "markdown",
   "metadata": {},
   "source": [
    "Nous allons commencer l'estimation de nos modèles par le modèle logistique. "
   ]
  },
  {
   "cell_type": "code",
   "execution_count": 74,
   "metadata": {},
   "outputs": [
    {
     "data": {
      "text/plain": [
       "1    uint8\n",
       "dtype: object"
      ]
     },
     "execution_count": 74,
     "metadata": {},
     "output_type": "execute_result"
    }
   ],
   "source": [
    "# On prépare la base aux différents modèles\n",
    "Y1 = pd.get_dummies(Y.Survived,drop_first = True)\n",
    "Y1.to_numpy()\n",
    "np.ravel(Y1)\n",
    "Y1.dtypes"
   ]
  },
  {
   "cell_type": "code",
   "execution_count": 75,
   "metadata": {
    "scrolled": true
   },
   "outputs": [
    {
     "name": "stdout",
     "output_type": "stream",
     "text": [
      "[0.79142782 0.80420255 0.83672746]\n",
      "Cross-Validation score :  0.8107859444183666\n",
      "Train F1-score : 0.827125714665603\n"
     ]
    }
   ],
   "source": [
    "# On applique la regression logistique\n",
    "from sklearn.linear_model import LogisticRegression\n",
    "from sklearn.metrics import f1_score\n",
    "lr = LogisticRegression()\n",
    "lr.fit(X_train, Y1.values.ravel())\n",
    "\n",
    "# On regarde le taux de bien prédit en cross validation\n",
    "from sklearn.model_selection import cross_val_score\n",
    "scores = cross_val_score(lr, X_train, Y1.values.ravel(), cv=3, scoring='f1_macro')\n",
    "print(scores)\n",
    "print(\"Cross-Validation score : \", np.mean(scores))\n",
    "\n",
    "# Le même taux sur l'échantillon d'apprentissage (donc le modèle est testé sur les données sur lesquelles il s'est entraîné)\n",
    "print(\"Train F1-score : {}\".format(\n",
    "    f1_score(Y1.values.ravel(), lr.predict(X_train), average='macro')\n",
    "))"
   ]
  },
  {
   "cell_type": "markdown",
   "metadata": {},
   "source": [
    "### Arbre de décision"
   ]
  },
  {
   "cell_type": "code",
   "execution_count": 76,
   "metadata": {},
   "outputs": [
    {
     "name": "stdout",
     "output_type": "stream",
     "text": [
      "Cross-Validation score :  0.7499310144341131\n",
      "Train F1-score : 0.9830391205592433\n"
     ]
    }
   ],
   "source": [
    "from sklearn.tree import DecisionTreeClassifier\n",
    "clf = DecisionTreeClassifier(random_state=0)\n",
    "clf.fit(X_train, Y1.values.ravel())\n",
    "\n",
    "scores = cross_val_score(clf, X_train, Y1.values.ravel(), cv=3, scoring='f1_macro')\n",
    "print(\"Cross-Validation score : \", np.mean(scores))\n",
    "\n",
    "print(\"Train F1-score : {}\".format(\n",
    "    f1_score(Y1.values.ravel(), clf.predict(X_train), average='macro')\n",
    "))"
   ]
  },
  {
   "cell_type": "markdown",
   "metadata": {},
   "source": [
    "On voit qu'il y a beaucoup de sur-apprentissage puisque les taux d'erreur entre un échantillon connu (Train) et un inconnu (CV) l'écart est près de 15%. Si nous modifions les paramètres de l'arbre de telle manière qu'il n'y ait pas de sur apprentissage on voit que l'écart se réduit énormement ; notre modèle est donc plus robuste. "
   ]
  },
  {
   "cell_type": "code",
   "execution_count": 77,
   "metadata": {},
   "outputs": [
    {
     "name": "stdout",
     "output_type": "stream",
     "text": [
      "Cross-Validation score :  0.7502915116403254\n",
      "Train F1-score : 0.7775019119120197\n"
     ]
    }
   ],
   "source": [
    "# CART avec les paramètres modifiés\n",
    "clf = DecisionTreeClassifier(max_depth = 20,\n",
    "                             min_samples_split = 0.3,\n",
    "                             class_weight = \"balanced\",\n",
    "                             random_state=0)\n",
    "\n",
    "clf.fit(X_train, Y1.values.ravel())\n",
    "\n",
    "scores = cross_val_score(clf, X_train, Y1.values.ravel(), cv=3, scoring='f1_macro')\n",
    "print(\"Cross-Validation score : \", np.mean(scores))\n",
    "\n",
    "print(\"Train F1-score : {}\".format(\n",
    "    f1_score(Y1.values.ravel(), clf.predict(X_train), average='macro')\n",
    "))"
   ]
  },
  {
   "cell_type": "markdown",
   "metadata": {},
   "source": [
    "L'écart passe de 15 à 2%, ça a donc été utile."
   ]
  },
  {
   "cell_type": "markdown",
   "metadata": {},
   "source": [
    "### Forêt aléatoire"
   ]
  },
  {
   "cell_type": "code",
   "execution_count": 78,
   "metadata": {},
   "outputs": [
    {
     "name": "stdout",
     "output_type": "stream",
     "text": [
      "Cross-Validation score :  0.7784621868906862\n",
      "Train F1-score : 0.9830989397352083\n"
     ]
    }
   ],
   "source": [
    "# Modèle de random forest\n",
    "from sklearn.ensemble import RandomForestClassifier\n",
    "\n",
    "rd = RandomForestClassifier(random_state=0)\n",
    "rd.fit(X_train, Y1.values.ravel())\n",
    "\n",
    "scores = cross_val_score(rd, X_train, Y1.values.ravel(), cv=3, scoring='f1_macro')\n",
    "print(\"Cross-Validation score : \", np.mean(scores))\n",
    "\n",
    "print(\"Train F1-score : {}\".format(\n",
    "    f1_score(Y1.values.ravel(), rd.predict(X_train), average='macro')\n",
    "))"
   ]
  },
  {
   "cell_type": "code",
   "execution_count": 79,
   "metadata": {},
   "outputs": [
    {
     "name": "stdout",
     "output_type": "stream",
     "text": [
      "Cross-Validation score :  0.7982771336542894\n",
      "Train F1-score : 0.8247377908882334\n"
     ]
    }
   ],
   "source": [
    "# Ici encore le sur-apprentissage nous amène à modifier les paramètres\n",
    "rd = RandomForestClassifier(n_estimators = 50,\n",
    "                             max_depth = 7,\n",
    "                             min_samples_split = 0.03,\n",
    "                             class_weight = \"balanced\",\n",
    "                             random_state=0)\n",
    "rd.fit(X_train, Y1.values.ravel())\n",
    "\n",
    "scores = cross_val_score(rd, X_train, Y1.values.ravel(), cv=3, scoring='f1_macro')\n",
    "print(\"Cross-Validation score : \", np.mean(scores))\n",
    "\n",
    "print(\"Train F1-score : {}\".format(\n",
    "    f1_score(Y1.values.ravel(), rd.predict(X_train), average='macro')\n",
    "))"
   ]
  },
  {
   "cell_type": "markdown",
   "metadata": {},
   "source": [
    "On arrive ainsi à résoudre l'**overfitting**."
   ]
  },
  {
   "cell_type": "markdown",
   "metadata": {},
   "source": [
    "### Bagging"
   ]
  },
  {
   "cell_type": "code",
   "execution_count": 80,
   "metadata": {},
   "outputs": [
    {
     "name": "stdout",
     "output_type": "stream",
     "text": [
      "Cross-Validation score :  0.8072098019744498\n",
      "Train F1-score : 0.9382507903055849\n"
     ]
    }
   ],
   "source": [
    "from sklearn.ensemble import RandomForestClassifier, BaggingClassifier\n",
    "bag = BaggingClassifier(base_estimator=RandomForestClassifier(), random_state=0)\n",
    "bag.fit(X_train, Y1.values.ravel())\n",
    "\n",
    "scores = cross_val_score(bag, X_train, Y1.values.ravel(), cv=3, scoring='f1_macro')\n",
    "print(\"Cross-Validation score : \", np.mean(scores))\n",
    "\n",
    "print(\"Train F1-score : {}\".format(\n",
    "    f1_score(Y1.values.ravel(), bag.predict(X_train), average='macro')\n",
    "))"
   ]
  },
  {
   "cell_type": "markdown",
   "metadata": {},
   "source": [
    " On voit 13 points de pourcentage d'écart entre la CV et les données d'apprentissage. Le taux de bonnes prédictions a dépassé les 80%."
   ]
  },
  {
   "cell_type": "markdown",
   "metadata": {},
   "source": [
    "### Gradient boosting"
   ]
  },
  {
   "cell_type": "code",
   "execution_count": 81,
   "metadata": {},
   "outputs": [
    {
     "name": "stdout",
     "output_type": "stream",
     "text": [
      "Cross-Validation score :  0.7824637102213504\n",
      "Train F1-score : 0.9831184152765584\n"
     ]
    }
   ],
   "source": [
    "from sklearn.ensemble import GradientBoostingClassifier\n",
    "boo = GradientBoostingClassifier(n_estimators=200, learning_rate=1.0, max_depth=4, random_state=0)\n",
    "boo.fit(X_train, Y1.values.ravel())\n",
    "\n",
    "scores = cross_val_score(boo, X_train, Y1.values.ravel(), cv=3, scoring='f1_macro')\n",
    "print(\"Cross-Validation score : \", np.mean(scores))\n",
    "\n",
    "print(\"Train F1-score : {}\".format(\n",
    "    f1_score(Y1.values.ravel(), boo.predict(X_train), average='macro')\n",
    "))"
   ]
  },
  {
   "cell_type": "markdown",
   "metadata": {},
   "source": [
    "+ On essaye une **optimisation** avec Grid Search pour ce modèle de gradient boosting"
   ]
  },
  {
   "cell_type": "code",
   "execution_count": 82,
   "metadata": {},
   "outputs": [
    {
     "data": {
      "text/plain": [
       "GridSearchCV(cv=3, error_score=nan,\n",
       "             estimator=GradientBoostingClassifier(ccp_alpha=0.0,\n",
       "                                                  criterion='friedman_mse',\n",
       "                                                  init=None, learning_rate=0.1,\n",
       "                                                  loss='deviance', max_depth=3,\n",
       "                                                  max_features=None,\n",
       "                                                  max_leaf_nodes=None,\n",
       "                                                  min_impurity_decrease=0.0,\n",
       "                                                  min_impurity_split=None,\n",
       "                                                  min_samples_leaf=1,\n",
       "                                                  min_samples_split=2,\n",
       "                                                  min_weight_fraction_leaf=0.0,\n",
       "                                                  n_estimators=100,\n",
       "                                                  n_iter_no_c...\n",
       "                                                  random_state=None,\n",
       "                                                  subsample=1.0, tol=0.0001,\n",
       "                                                  validation_fraction=0.1,\n",
       "                                                  verbose=0, warm_start=False),\n",
       "             iid='deprecated', n_jobs=None,\n",
       "             param_grid={'learning_rate': [0.03, 0.05, 0.1, 0.2, 0.4, 0.5, 0.8,\n",
       "                                           0.95, 1],\n",
       "                         'max_depth': [3, 4, 5, 10, 20, 30, 50],\n",
       "                         'n_estimators': [5, 10, 20, 40, 80, 100, 150, 200,\n",
       "                                          400]},\n",
       "             pre_dispatch='2*n_jobs', refit=True, return_train_score=False,\n",
       "             scoring='f1_macro', verbose=0)"
      ]
     },
     "execution_count": 82,
     "metadata": {},
     "output_type": "execute_result"
    }
   ],
   "source": [
    "from sklearn.model_selection import GridSearchCV\n",
    "\n",
    "n_estimators = [5,10,20,40,80,100,150,200,400]\n",
    "max_depth = [3, 4, 5, 10, 20, 30, 50]\n",
    "learning_rate = [0.03, 0.05, 0.1, 0.2, 0.4, 0.5, 0.8, 0.95, 1]\n",
    "\n",
    "parameters = {'n_estimators': n_estimators ,\n",
    "              'max_depth' : max_depth,\n",
    "              'learning_rate' : learning_rate\n",
    "             }\n",
    "\n",
    "boo2 = GradientBoostingClassifier()\n",
    "\n",
    "boo2 = GridSearchCV(boo2, parameters, scoring = 'f1_macro', cv = 3)\n",
    "boo2.fit(X_train, Y1.values.ravel())"
   ]
  },
  {
   "cell_type": "code",
   "execution_count": 83,
   "metadata": {},
   "outputs": [
    {
     "name": "stdout",
     "output_type": "stream",
     "text": [
      "la meilleure qualité de prévision est 0.8248463500150379 correspondant aux hyper paramètres {'learning_rate': 0.05, 'max_depth': 5, 'n_estimators': 200}\n"
     ]
    }
   ],
   "source": [
    "#Avec une fonction on trouve les paramètres qui optimisent\n",
    "meilleure_qualite = boo2.best_score_\n",
    "meilleurs_hyperparam = boo2.best_params_\n",
    "\n",
    "print(\"la meilleure qualité de prévision est {0} correspondant aux hyper paramètres {1}\".format(meilleure_qualite, meilleurs_hyperparam))"
   ]
  },
  {
   "cell_type": "markdown",
   "metadata": {},
   "source": [
    "## Meilleur modèle"
   ]
  },
  {
   "cell_type": "markdown",
   "metadata": {},
   "source": [
    "Enfin, nous terminons cette étude en regardant les variables importantes pour répodnre réellement à la problématique : \"Quels types de personnes étaient plus susceptibles de survivre?\". Nous utilisons donc la fonction **feature_importances_** qui indique les facteurs importants du meilleur modèle, c'est-à-dire le modèle de gradient boosting avec les hyperparamètres optimisés."
   ]
  },
  {
   "cell_type": "code",
   "execution_count": 84,
   "metadata": {
    "scrolled": false
   },
   "outputs": [
    {
     "data": {
      "text/plain": [
       "<matplotlib.axes._subplots.AxesSubplot at 0x174a3b9fd88>"
      ]
     },
     "execution_count": 84,
     "metadata": {},
     "output_type": "execute_result"
    },
    {
     "data": {
      "image/png": "[encoded data removed]",
      "text/plain": [
       "<Figure size 432x288 with 1 Axes>"
      ]
     },
     "metadata": {
      "needs_background": "light"
     },
     "output_type": "display_data"
    }
   ],
   "source": [
    "gridsearch_result = pd.DataFrame(boo2.cv_results_[\"params\"])\n",
    "gridsearch_result[\"score\"] = boo2.cv_results_[\"mean_test_score\"]\n",
    "gridsearch_result[[\"n_estimators\",\"max_depth\",\"score\"]].groupby([\"n_estimators\",\"max_depth\"]).mean().unstack().plot()"
   ]
  },
  {
   "cell_type": "code",
   "execution_count": 85,
   "metadata": {
    "scrolled": true
   },
   "outputs": [
    {
     "name": "stdout",
     "output_type": "stream",
     "text": [
      "<bound method BaseEstimator.set_params of GradientBoostingClassifier(ccp_alpha=0.0, criterion='friedman_mse', init=None,\n",
      "                           learning_rate=0.05, loss='deviance', max_depth=5,\n",
      "                           max_features=None, max_leaf_nodes=None,\n",
      "                           min_impurity_decrease=0.0, min_impurity_split=None,\n",
      "                           min_samples_leaf=1, min_samples_split=2,\n",
      "                           min_weight_fraction_leaf=0.0, n_estimators=200,\n",
      "                           n_iter_no_change=None, presort='deprecated',\n",
      "                           random_state=None, subsample=1.0, tol=0.0001,\n",
      "                           validation_fraction=0.1, verbose=0,\n",
      "                           warm_start=False)>\n"
     ]
    }
   ],
   "source": [
    "boo_final = boo2.best_estimator_\n",
    "print(boo_final.set_params)"
   ]
  },
  {
   "cell_type": "code",
   "execution_count": 86,
   "metadata": {},
   "outputs": [
    {
     "data": {
      "image/png": "[encoded data removed]",
      "text/plain": [
       "<Figure size 432x288 with 1 Axes>"
      ]
     },
     "metadata": {
      "needs_background": "light"
     },
     "output_type": "display_data"
    }
   ],
   "source": [
    "var_explicative=list(X_train)\n",
    "\n",
    "plt.bar(\n",
    "    var_explicative,\n",
    "    boo_final.feature_importances_\n",
    ")\n",
    "plt.xticks(rotation=90)\n",
    "plt.title(\"Importance des variables explicatives dans le modèle\")\n",
    "plt.axhline(y=0.05, xmin=0, xmax=1, color='red', lw=1.2)\n",
    "plt.show()"
   ]
  },
  {
   "cell_type": "markdown",
   "metadata": {},
   "source": [
    "+ Pour connaître **l'effet de chaque variable** sur Y et ainsi répondre pleinement à la problématique, nous regardons les coefficients associés à chaque variable de la régression logistique (les autres modèles étant de ML nous ne pouvons obtenir de coefficients)."
   ]
  },
  {
   "cell_type": "code",
   "execution_count": 87,
   "metadata": {},
   "outputs": [],
   "source": [
    "# On récupère les coef et noms de variables\n",
    "x1=lr.coef_\n",
    "x11=pd.DataFrame(x1)\n",
    "x111=np.transpose(x11)\n",
    "x2=X_train.columns\n",
    "x22=pd.DataFrame(x2)"
   ]
  },
  {
   "cell_type": "code",
   "execution_count": 88,
   "metadata": {},
   "outputs": [],
   "source": [
    "# On met le tout dans un df\n",
    "vbles=[x22,x111]\n",
    "vbles1=pd.concat(vbles, axis=1)\n",
    "vbles1.columns = ['Variables', 'Coefficients']"
   ]
  },
  {
   "cell_type": "code",
   "execution_count": 90,
   "metadata": {},
   "outputs": [
    {
     "data": {
      "image/png": "[encoded data removed]",
      "text/plain": [
       "<Figure size 432x288 with 1 Axes>"
      ]
     },
     "metadata": {
      "needs_background": "light"
     },
     "output_type": "display_data"
    }
   ],
   "source": [
    "sns.barplot(x=\"Variables\", y=\"Coefficients\", data=vbles1, edgecolor='black')\n",
    "#female = train['Survived'][train['Sex']=='female'].value_counts(normalize=True)[1]*100\n",
    "#male = train['Survived'][train['Sex']=='male'].value_counts(normalize=True)[1]*100\n",
    "plt.title(\"Effet de chaque variable sur Y\")\n",
    "plt.ylabel(\"Coefficients\")\n",
    "plt.xticks(rotation=90)\n",
    "#plt.xlabel('Sex \\nMale: %.2f%% \\nFemale: %.2f%%'%(male, female) )\n",
    "plt.show()"
   ]
  },
  {
   "cell_type": "markdown",
   "metadata": {},
   "source": [
    "+ Finalement, on applique le modèle retenu sur le jeu de données test pour obtenir les prédictions du jeu test. "
   ]
  },
  {
   "cell_type": "code",
   "execution_count": null,
   "metadata": {},
   "outputs": [],
   "source": [
    "# On applique au jeu test et on exporte\n",
    "X_test=transform_final.loc[892:1309]\n",
    "result=boo_final.predict(X_test)\n",
    "result=pd.DataFrame(result)"
   ]
  },
  {
   "cell_type": "code",
   "execution_count": null,
   "metadata": {},
   "outputs": [],
   "source": [
    "# On ajoute le passagerId pour la soumission sous kaggle\n",
    "test.reset_index(inplace=True)\n",
    "kaggle=[test.PassengerId,result]\n",
    "gender_submission=pd.concat(kaggle, axis=1)\n",
    "gender_submission.set_index('PassengerId',inplace=True,drop=True)\n",
    "gender_submission.to_csv(\"gender_submission.csv\", encoding=\"utf-8\", index=True)"
   ]
  },
  {
   "cell_type": "markdown",
   "metadata": {},
   "source": [
    " Avec ce modèle on obtient un score sous kaggle de 0.7488."
   ]
  }
 ],
 "metadata": {
  "celltoolbar": "Aucun(e)",
  "kernelspec": {
   "display_name": "Python 3",
   "language": "python",
   "name": "python3"
  },
  "language_info": {
   "codemirror_mode": {
    "name": "ipython",
    "version": 3
   },
   "file_extension": ".py",
   "mimetype": "text/x-python",
   "name": "python",
   "nbconvert_exporter": "python",
   "pygments_lexer": "ipython3",
   "version": "3.7.6"
  },
  "toc": {
   "base_numbering": 1,
   "nav_menu": {},
   "number_sections": true,
   "sideBar": true,
   "skip_h1_title": true,
   "title_cell": "Table of Contents",
   "title_sidebar": "Contents",
   "toc_cell": true,
   "toc_position": {},
   "toc_section_display": true,
   "toc_window_display": false
  }
 },
 "nbformat": 4,
 "nbformat_minor": 4
}
